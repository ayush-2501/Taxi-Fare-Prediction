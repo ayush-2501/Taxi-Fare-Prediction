{
 "cells": [
  {
   "cell_type": "code",
   "execution_count": 1,
   "metadata": {},
   "outputs": [
    {
     "data": {
      "text/html": [
       "        <script type=\"text/javascript\">\n",
       "        window.PlotlyConfig = {MathJaxConfig: 'local'};\n",
       "        if (window.MathJax) {MathJax.Hub.Config({SVG: {font: \"STIX-Web\"}});}\n",
       "        if (typeof require !== 'undefined') {\n",
       "        require.undef(\"plotly\");\n",
       "        requirejs.config({\n",
       "            paths: {\n",
       "                'plotly': ['https://cdn.plot.ly/plotly-latest.min']\n",
       "            }\n",
       "        });\n",
       "        require(['plotly'], function(Plotly) {\n",
       "            window._Plotly = Plotly;\n",
       "        });\n",
       "        }\n",
       "        </script>\n",
       "        "
      ]
     },
     "metadata": {},
     "output_type": "display_data"
    },
    {
     "name": "stderr",
     "output_type": "stream",
     "text": [
      "D:\\anaconda3\\lib\\site-packages\\sklearn\\utils\\deprecation.py:143: FutureWarning:\n",
      "\n",
      "The sklearn.utils.testing module is  deprecated in version 0.22 and will be removed in version 0.24. The corresponding classes / functions should instead be imported from sklearn.utils. Anything that cannot be imported from sklearn.utils is now part of the private API.\n",
      "\n"
     ]
    }
   ],
   "source": [
    "import pandas as pd\n",
    "import time\n",
    "import numpy as np\n",
    "import seaborn as sns\n",
    "import matplotlib.pyplot as plt\n",
    "from sklearn.model_selection import train_test_split\n",
    "import sklearn.metrics as skm\n",
    "\n",
    "import plotly.figure_factory as ff\n",
    "\n",
    "import cufflinks as cf\n",
    "cf.go_offline()\n",
    "cf.set_config_file(offline=False, world_readable=True)\n",
    "\n",
    "import plotly.express as px\n",
    "import plotly.io as pio\n",
    "import plotly.graph_objects as go\n",
    "\n",
    "pd.options.plotting.backend = \"plotly\"\n",
    "pio.templates.default = 'plotly_dark'\n",
    "\n",
    "from lazypredict.Supervised import LazyRegressor\n",
    "\n",
    "from sklearn.linear_model import LinearRegression\n",
    "from sklearn.tree import DecisionTreeRegressor\n",
    "from sklearn.ensemble import RandomForestRegressor\n",
    "import xgboost as xgb"
   ]
  },
  {
   "cell_type": "code",
   "execution_count": 2,
   "metadata": {
    "scrolled": true
   },
   "outputs": [
    {
     "name": "stdout",
     "output_type": "stream",
     "text": [
      "Time taken for read :  6.537950754165649\n"
     ]
    },
    {
     "data": {
      "text/plain": [
       "(4871473, 9)"
      ]
     },
     "execution_count": 2,
     "metadata": {},
     "output_type": "execute_result"
    }
   ],
   "source": [
    "init_time = time.time()\n",
    "df = pd.read_csv('train_fare_data.csv')\n",
    "fin_time = time.time()\n",
    "print ('Time taken for read : ', fin_time-init_time)\n",
    "df.shape"
   ]
  },
  {
   "cell_type": "code",
   "execution_count": 3,
   "metadata": {},
   "outputs": [],
   "source": [
    "df['passenger_count'] = df['passenger_count'][(df['passenger_count'] > 0) & (df['passenger_count'] <= 4)]"
   ]
  },
  {
   "cell_type": "code",
   "execution_count": 4,
   "metadata": {},
   "outputs": [
    {
     "data": {
      "text/html": [
       "<div>\n",
       "<style scoped>\n",
       "    .dataframe tbody tr th:only-of-type {\n",
       "        vertical-align: middle;\n",
       "    }\n",
       "\n",
       "    .dataframe tbody tr th {\n",
       "        vertical-align: top;\n",
       "    }\n",
       "\n",
       "    .dataframe thead th {\n",
       "        text-align: right;\n",
       "    }\n",
       "</style>\n",
       "<table border=\"1\" class=\"dataframe\">\n",
       "  <thead>\n",
       "    <tr style=\"text-align: right;\">\n",
       "      <th></th>\n",
       "      <th>fare_amount</th>\n",
       "      <th>pickup_longitude</th>\n",
       "      <th>pickup_latitude</th>\n",
       "      <th>dropoff_longitude</th>\n",
       "      <th>dropoff_latitude</th>\n",
       "      <th>passenger_count</th>\n",
       "      <th>distance</th>\n",
       "    </tr>\n",
       "  </thead>\n",
       "  <tbody>\n",
       "    <tr>\n",
       "      <th>count</th>\n",
       "      <td>4871473.00</td>\n",
       "      <td>4871473.00</td>\n",
       "      <td>4871473.00</td>\n",
       "      <td>4871473.00</td>\n",
       "      <td>4871473.00</td>\n",
       "      <td>4422145.00</td>\n",
       "      <td>4871473.00</td>\n",
       "    </tr>\n",
       "    <tr>\n",
       "      <th>mean</th>\n",
       "      <td>11.29</td>\n",
       "      <td>-73.98</td>\n",
       "      <td>40.75</td>\n",
       "      <td>-73.97</td>\n",
       "      <td>40.75</td>\n",
       "      <td>1.33</td>\n",
       "      <td>3.31</td>\n",
       "    </tr>\n",
       "    <tr>\n",
       "      <th>std</th>\n",
       "      <td>9.45</td>\n",
       "      <td>0.03</td>\n",
       "      <td>0.03</td>\n",
       "      <td>0.03</td>\n",
       "      <td>0.03</td>\n",
       "      <td>0.68</td>\n",
       "      <td>3.56</td>\n",
       "    </tr>\n",
       "    <tr>\n",
       "      <th>min</th>\n",
       "      <td>0.01</td>\n",
       "      <td>-74.28</td>\n",
       "      <td>40.45</td>\n",
       "      <td>-74.28</td>\n",
       "      <td>40.45</td>\n",
       "      <td>1.00</td>\n",
       "      <td>0.00</td>\n",
       "    </tr>\n",
       "    <tr>\n",
       "      <th>25%</th>\n",
       "      <td>6.00</td>\n",
       "      <td>-73.99</td>\n",
       "      <td>40.74</td>\n",
       "      <td>-73.99</td>\n",
       "      <td>40.74</td>\n",
       "      <td>1.00</td>\n",
       "      <td>1.25</td>\n",
       "    </tr>\n",
       "    <tr>\n",
       "      <th>50%</th>\n",
       "      <td>8.50</td>\n",
       "      <td>-73.98</td>\n",
       "      <td>40.75</td>\n",
       "      <td>-73.98</td>\n",
       "      <td>40.75</td>\n",
       "      <td>1.00</td>\n",
       "      <td>2.15</td>\n",
       "    </tr>\n",
       "    <tr>\n",
       "      <th>75%</th>\n",
       "      <td>12.50</td>\n",
       "      <td>-73.97</td>\n",
       "      <td>40.77</td>\n",
       "      <td>-73.97</td>\n",
       "      <td>40.77</td>\n",
       "      <td>1.00</td>\n",
       "      <td>3.91</td>\n",
       "    </tr>\n",
       "    <tr>\n",
       "      <th>max</th>\n",
       "      <td>250.00</td>\n",
       "      <td>-73.65</td>\n",
       "      <td>40.92</td>\n",
       "      <td>-73.65</td>\n",
       "      <td>40.92</td>\n",
       "      <td>4.00</td>\n",
       "      <td>48.30</td>\n",
       "    </tr>\n",
       "  </tbody>\n",
       "</table>\n",
       "</div>"
      ],
      "text/plain": [
       "       fare_amount  pickup_longitude  pickup_latitude  dropoff_longitude  \\\n",
       "count   4871473.00        4871473.00       4871473.00         4871473.00   \n",
       "mean         11.29            -73.98            40.75             -73.97   \n",
       "std           9.45              0.03             0.03               0.03   \n",
       "min           0.01            -74.28            40.45             -74.28   \n",
       "25%           6.00            -73.99            40.74             -73.99   \n",
       "50%           8.50            -73.98            40.75             -73.98   \n",
       "75%          12.50            -73.97            40.77             -73.97   \n",
       "max         250.00            -73.65            40.92             -73.65   \n",
       "\n",
       "       dropoff_latitude  passenger_count   distance  \n",
       "count        4871473.00       4422145.00 4871473.00  \n",
       "mean              40.75             1.33       3.31  \n",
       "std                0.03             0.68       3.56  \n",
       "min               40.45             1.00       0.00  \n",
       "25%               40.74             1.00       1.25  \n",
       "50%               40.75             1.00       2.15  \n",
       "75%               40.77             1.00       3.91  \n",
       "max               40.92             4.00      48.30  "
      ]
     },
     "execution_count": 4,
     "metadata": {},
     "output_type": "execute_result"
    }
   ],
   "source": [
    "df.describe()"
   ]
  },
  {
   "cell_type": "code",
   "execution_count": 5,
   "metadata": {},
   "outputs": [
    {
     "data": {
      "text/plain": [
       "key                       0\n",
       "fare_amount               0\n",
       "pickup_datetime           0\n",
       "pickup_longitude          0\n",
       "pickup_latitude           0\n",
       "dropoff_longitude         0\n",
       "dropoff_latitude          0\n",
       "passenger_count      449328\n",
       "distance                  0\n",
       "dtype: int64"
      ]
     },
     "execution_count": 5,
     "metadata": {},
     "output_type": "execute_result"
    }
   ],
   "source": [
    "df.isnull().sum()"
   ]
  },
  {
   "cell_type": "code",
   "execution_count": 6,
   "metadata": {},
   "outputs": [],
   "source": [
    "df.dropna(inplace=True)"
   ]
  },
  {
   "cell_type": "code",
   "execution_count": 7,
   "metadata": {},
   "outputs": [
    {
     "data": {
      "text/plain": [
       "(4422145, 9)"
      ]
     },
     "execution_count": 7,
     "metadata": {},
     "output_type": "execute_result"
    }
   ],
   "source": [
    "df.shape"
   ]
  },
  {
   "cell_type": "code",
   "execution_count": 8,
   "metadata": {},
   "outputs": [],
   "source": [
    "df['pickup_datetime'] = pd.to_datetime(df['pickup_datetime'])"
   ]
  },
  {
   "cell_type": "code",
   "execution_count": 9,
   "metadata": {},
   "outputs": [],
   "source": [
    "df['Year'] = df['pickup_datetime'].dt.year\n",
    "df['Month'] = df['pickup_datetime'].dt.month\n",
    "df['Date'] = df['pickup_datetime'].dt.day\n",
    "df['Day of Week'] = df['pickup_datetime'].dt.dayofweek\n",
    "df['Hour'] = df['pickup_datetime'].dt.hour"
   ]
  },
  {
   "cell_type": "code",
   "execution_count": 10,
   "metadata": {
    "scrolled": false
   },
   "outputs": [
    {
     "data": {
      "text/html": [
       "<div>\n",
       "<style scoped>\n",
       "    .dataframe tbody tr th:only-of-type {\n",
       "        vertical-align: middle;\n",
       "    }\n",
       "\n",
       "    .dataframe tbody tr th {\n",
       "        vertical-align: top;\n",
       "    }\n",
       "\n",
       "    .dataframe thead th {\n",
       "        text-align: right;\n",
       "    }\n",
       "</style>\n",
       "<table border=\"1\" class=\"dataframe\">\n",
       "  <thead>\n",
       "    <tr style=\"text-align: right;\">\n",
       "      <th></th>\n",
       "      <th>key</th>\n",
       "      <th>fare_amount</th>\n",
       "      <th>pickup_datetime</th>\n",
       "      <th>pickup_longitude</th>\n",
       "      <th>pickup_latitude</th>\n",
       "      <th>dropoff_longitude</th>\n",
       "      <th>dropoff_latitude</th>\n",
       "      <th>passenger_count</th>\n",
       "      <th>distance</th>\n",
       "      <th>Year</th>\n",
       "      <th>Month</th>\n",
       "      <th>Date</th>\n",
       "      <th>Day of Week</th>\n",
       "      <th>Hour</th>\n",
       "    </tr>\n",
       "  </thead>\n",
       "  <tbody>\n",
       "    <tr>\n",
       "      <th>0</th>\n",
       "      <td>2009-06-15 17:26:21.0000001</td>\n",
       "      <td>4.50</td>\n",
       "      <td>2009-06-15 17:26:21+00:00</td>\n",
       "      <td>-73.84</td>\n",
       "      <td>40.72</td>\n",
       "      <td>-73.84</td>\n",
       "      <td>40.71</td>\n",
       "      <td>1.00</td>\n",
       "      <td>1.03</td>\n",
       "      <td>2009</td>\n",
       "      <td>6</td>\n",
       "      <td>15</td>\n",
       "      <td>0</td>\n",
       "      <td>17</td>\n",
       "    </tr>\n",
       "    <tr>\n",
       "      <th>1</th>\n",
       "      <td>2010-01-05 16:52:16.0000002</td>\n",
       "      <td>16.90</td>\n",
       "      <td>2010-01-05 16:52:16+00:00</td>\n",
       "      <td>-74.02</td>\n",
       "      <td>40.71</td>\n",
       "      <td>-73.98</td>\n",
       "      <td>40.78</td>\n",
       "      <td>1.00</td>\n",
       "      <td>8.45</td>\n",
       "      <td>2010</td>\n",
       "      <td>1</td>\n",
       "      <td>5</td>\n",
       "      <td>1</td>\n",
       "      <td>16</td>\n",
       "    </tr>\n",
       "    <tr>\n",
       "      <th>2</th>\n",
       "      <td>2011-08-18 00:35:00.00000049</td>\n",
       "      <td>5.70</td>\n",
       "      <td>2011-08-18 00:35:00+00:00</td>\n",
       "      <td>-73.98</td>\n",
       "      <td>40.76</td>\n",
       "      <td>-73.99</td>\n",
       "      <td>40.75</td>\n",
       "      <td>2.00</td>\n",
       "      <td>1.39</td>\n",
       "      <td>2011</td>\n",
       "      <td>8</td>\n",
       "      <td>18</td>\n",
       "      <td>3</td>\n",
       "      <td>0</td>\n",
       "    </tr>\n",
       "    <tr>\n",
       "      <th>3</th>\n",
       "      <td>2012-04-21 04:30:42.0000001</td>\n",
       "      <td>7.70</td>\n",
       "      <td>2012-04-21 04:30:42+00:00</td>\n",
       "      <td>-73.99</td>\n",
       "      <td>40.73</td>\n",
       "      <td>-73.99</td>\n",
       "      <td>40.76</td>\n",
       "      <td>1.00</td>\n",
       "      <td>2.80</td>\n",
       "      <td>2012</td>\n",
       "      <td>4</td>\n",
       "      <td>21</td>\n",
       "      <td>5</td>\n",
       "      <td>4</td>\n",
       "    </tr>\n",
       "    <tr>\n",
       "      <th>4</th>\n",
       "      <td>2010-03-09 07:51:00.000000135</td>\n",
       "      <td>5.30</td>\n",
       "      <td>2010-03-09 07:51:00+00:00</td>\n",
       "      <td>-73.97</td>\n",
       "      <td>40.77</td>\n",
       "      <td>-73.96</td>\n",
       "      <td>40.78</td>\n",
       "      <td>1.00</td>\n",
       "      <td>2.00</td>\n",
       "      <td>2010</td>\n",
       "      <td>3</td>\n",
       "      <td>9</td>\n",
       "      <td>1</td>\n",
       "      <td>7</td>\n",
       "    </tr>\n",
       "  </tbody>\n",
       "</table>\n",
       "</div>"
      ],
      "text/plain": [
       "                             key  fare_amount           pickup_datetime  \\\n",
       "0    2009-06-15 17:26:21.0000001         4.50 2009-06-15 17:26:21+00:00   \n",
       "1    2010-01-05 16:52:16.0000002        16.90 2010-01-05 16:52:16+00:00   \n",
       "2   2011-08-18 00:35:00.00000049         5.70 2011-08-18 00:35:00+00:00   \n",
       "3    2012-04-21 04:30:42.0000001         7.70 2012-04-21 04:30:42+00:00   \n",
       "4  2010-03-09 07:51:00.000000135         5.30 2010-03-09 07:51:00+00:00   \n",
       "\n",
       "   pickup_longitude  pickup_latitude  dropoff_longitude  dropoff_latitude  \\\n",
       "0            -73.84            40.72             -73.84             40.71   \n",
       "1            -74.02            40.71             -73.98             40.78   \n",
       "2            -73.98            40.76             -73.99             40.75   \n",
       "3            -73.99            40.73             -73.99             40.76   \n",
       "4            -73.97            40.77             -73.96             40.78   \n",
       "\n",
       "   passenger_count  distance  Year  Month  Date  Day of Week  Hour  \n",
       "0             1.00      1.03  2009      6    15            0    17  \n",
       "1             1.00      8.45  2010      1     5            1    16  \n",
       "2             2.00      1.39  2011      8    18            3     0  \n",
       "3             1.00      2.80  2012      4    21            5     4  \n",
       "4             1.00      2.00  2010      3     9            1     7  "
      ]
     },
     "execution_count": 10,
     "metadata": {},
     "output_type": "execute_result"
    }
   ],
   "source": [
    "df.head()"
   ]
  },
  {
   "cell_type": "code",
   "execution_count": 11,
   "metadata": {},
   "outputs": [
    {
     "data": {
      "text/html": [
       "<div>\n",
       "<style scoped>\n",
       "    .dataframe tbody tr th:only-of-type {\n",
       "        vertical-align: middle;\n",
       "    }\n",
       "\n",
       "    .dataframe tbody tr th {\n",
       "        vertical-align: top;\n",
       "    }\n",
       "\n",
       "    .dataframe thead th {\n",
       "        text-align: right;\n",
       "    }\n",
       "</style>\n",
       "<table border=\"1\" class=\"dataframe\">\n",
       "  <thead>\n",
       "    <tr style=\"text-align: right;\">\n",
       "      <th></th>\n",
       "      <th>fare_amount</th>\n",
       "      <th>pickup_longitude</th>\n",
       "      <th>pickup_latitude</th>\n",
       "      <th>dropoff_longitude</th>\n",
       "      <th>dropoff_latitude</th>\n",
       "      <th>passenger_count</th>\n",
       "      <th>distance</th>\n",
       "      <th>Year</th>\n",
       "      <th>Month</th>\n",
       "      <th>Date</th>\n",
       "      <th>Day of Week</th>\n",
       "      <th>Hour</th>\n",
       "    </tr>\n",
       "  </thead>\n",
       "  <tbody>\n",
       "    <tr>\n",
       "      <th>count</th>\n",
       "      <td>4422145.00</td>\n",
       "      <td>4422145.00</td>\n",
       "      <td>4422145.00</td>\n",
       "      <td>4422145.00</td>\n",
       "      <td>4422145.00</td>\n",
       "      <td>4422145.00</td>\n",
       "      <td>4422145.00</td>\n",
       "      <td>4422145.00</td>\n",
       "      <td>4422145.00</td>\n",
       "      <td>4422145.00</td>\n",
       "      <td>4422145.00</td>\n",
       "      <td>4422145.00</td>\n",
       "    </tr>\n",
       "    <tr>\n",
       "      <th>mean</th>\n",
       "      <td>11.28</td>\n",
       "      <td>-73.98</td>\n",
       "      <td>40.75</td>\n",
       "      <td>-73.97</td>\n",
       "      <td>40.75</td>\n",
       "      <td>1.33</td>\n",
       "      <td>3.30</td>\n",
       "      <td>2011.74</td>\n",
       "      <td>6.27</td>\n",
       "      <td>15.71</td>\n",
       "      <td>3.04</td>\n",
       "      <td>13.51</td>\n",
       "    </tr>\n",
       "    <tr>\n",
       "      <th>std</th>\n",
       "      <td>9.45</td>\n",
       "      <td>0.03</td>\n",
       "      <td>0.03</td>\n",
       "      <td>0.03</td>\n",
       "      <td>0.03</td>\n",
       "      <td>0.68</td>\n",
       "      <td>3.55</td>\n",
       "      <td>1.87</td>\n",
       "      <td>3.44</td>\n",
       "      <td>8.69</td>\n",
       "      <td>1.95</td>\n",
       "      <td>6.52</td>\n",
       "    </tr>\n",
       "    <tr>\n",
       "      <th>min</th>\n",
       "      <td>0.01</td>\n",
       "      <td>-74.28</td>\n",
       "      <td>40.45</td>\n",
       "      <td>-74.28</td>\n",
       "      <td>40.45</td>\n",
       "      <td>1.00</td>\n",
       "      <td>0.00</td>\n",
       "      <td>2009.00</td>\n",
       "      <td>1.00</td>\n",
       "      <td>1.00</td>\n",
       "      <td>0.00</td>\n",
       "      <td>0.00</td>\n",
       "    </tr>\n",
       "    <tr>\n",
       "      <th>25%</th>\n",
       "      <td>6.00</td>\n",
       "      <td>-73.99</td>\n",
       "      <td>40.74</td>\n",
       "      <td>-73.99</td>\n",
       "      <td>40.74</td>\n",
       "      <td>1.00</td>\n",
       "      <td>1.26</td>\n",
       "      <td>2010.00</td>\n",
       "      <td>3.00</td>\n",
       "      <td>8.00</td>\n",
       "      <td>1.00</td>\n",
       "      <td>9.00</td>\n",
       "    </tr>\n",
       "    <tr>\n",
       "      <th>50%</th>\n",
       "      <td>8.50</td>\n",
       "      <td>-73.98</td>\n",
       "      <td>40.75</td>\n",
       "      <td>-73.98</td>\n",
       "      <td>40.75</td>\n",
       "      <td>1.00</td>\n",
       "      <td>2.15</td>\n",
       "      <td>2012.00</td>\n",
       "      <td>6.00</td>\n",
       "      <td>16.00</td>\n",
       "      <td>3.00</td>\n",
       "      <td>14.00</td>\n",
       "    </tr>\n",
       "    <tr>\n",
       "      <th>75%</th>\n",
       "      <td>12.50</td>\n",
       "      <td>-73.97</td>\n",
       "      <td>40.77</td>\n",
       "      <td>-73.97</td>\n",
       "      <td>40.77</td>\n",
       "      <td>1.00</td>\n",
       "      <td>3.90</td>\n",
       "      <td>2013.00</td>\n",
       "      <td>9.00</td>\n",
       "      <td>23.00</td>\n",
       "      <td>5.00</td>\n",
       "      <td>19.00</td>\n",
       "    </tr>\n",
       "    <tr>\n",
       "      <th>max</th>\n",
       "      <td>250.00</td>\n",
       "      <td>-73.65</td>\n",
       "      <td>40.92</td>\n",
       "      <td>-73.65</td>\n",
       "      <td>40.92</td>\n",
       "      <td>4.00</td>\n",
       "      <td>48.30</td>\n",
       "      <td>2015.00</td>\n",
       "      <td>12.00</td>\n",
       "      <td>31.00</td>\n",
       "      <td>6.00</td>\n",
       "      <td>23.00</td>\n",
       "    </tr>\n",
       "  </tbody>\n",
       "</table>\n",
       "</div>"
      ],
      "text/plain": [
       "       fare_amount  pickup_longitude  pickup_latitude  dropoff_longitude  \\\n",
       "count   4422145.00        4422145.00       4422145.00         4422145.00   \n",
       "mean         11.28            -73.98            40.75             -73.97   \n",
       "std           9.45              0.03             0.03               0.03   \n",
       "min           0.01            -74.28            40.45             -74.28   \n",
       "25%           6.00            -73.99            40.74             -73.99   \n",
       "50%           8.50            -73.98            40.75             -73.98   \n",
       "75%          12.50            -73.97            40.77             -73.97   \n",
       "max         250.00            -73.65            40.92             -73.65   \n",
       "\n",
       "       dropoff_latitude  passenger_count   distance       Year      Month  \\\n",
       "count        4422145.00       4422145.00 4422145.00 4422145.00 4422145.00   \n",
       "mean              40.75             1.33       3.30    2011.74       6.27   \n",
       "std                0.03             0.68       3.55       1.87       3.44   \n",
       "min               40.45             1.00       0.00    2009.00       1.00   \n",
       "25%               40.74             1.00       1.26    2010.00       3.00   \n",
       "50%               40.75             1.00       2.15    2012.00       6.00   \n",
       "75%               40.77             1.00       3.90    2013.00       9.00   \n",
       "max               40.92             4.00      48.30    2015.00      12.00   \n",
       "\n",
       "            Date  Day of Week       Hour  \n",
       "count 4422145.00   4422145.00 4422145.00  \n",
       "mean       15.71         3.04      13.51  \n",
       "std         8.69         1.95       6.52  \n",
       "min         1.00         0.00       0.00  \n",
       "25%         8.00         1.00       9.00  \n",
       "50%        16.00         3.00      14.00  \n",
       "75%        23.00         5.00      19.00  \n",
       "max        31.00         6.00      23.00  "
      ]
     },
     "execution_count": 11,
     "metadata": {},
     "output_type": "execute_result"
    }
   ],
   "source": [
    "df.describe()"
   ]
  },
  {
   "cell_type": "code",
   "execution_count": 12,
   "metadata": {
    "scrolled": true
   },
   "outputs": [
    {
     "data": {
      "text/plain": [
       "Index(['key', 'fare_amount', 'pickup_datetime', 'pickup_longitude',\n",
       "       'pickup_latitude', 'dropoff_longitude', 'dropoff_latitude',\n",
       "       'passenger_count', 'distance', 'Year', 'Month', 'Date', 'Day of Week',\n",
       "       'Hour'],\n",
       "      dtype='object')"
      ]
     },
     "execution_count": 12,
     "metadata": {},
     "output_type": "execute_result"
    }
   ],
   "source": [
    "df.columns"
   ]
  },
  {
   "cell_type": "code",
   "execution_count": 13,
   "metadata": {},
   "outputs": [
    {
     "data": {
      "text/plain": [
       "1.00    3380918\n",
       "2.00     722838\n",
       "3.00     214600\n",
       "4.00     103789\n",
       "Name: passenger_count, dtype: int64"
      ]
     },
     "execution_count": 13,
     "metadata": {},
     "output_type": "execute_result"
    }
   ],
   "source": [
    "df['passenger_count'].value_counts()"
   ]
  },
  {
   "cell_type": "code",
   "execution_count": 14,
   "metadata": {},
   "outputs": [],
   "source": [
    "def jfk_dist(drop_lat, drop_lon):    \n",
    "    pick_lat = 40.6413\n",
    "    pick_lon = -73.7781\n",
    "    \n",
    "    R_earth = 6371 # Earth radius (in km)\n",
    "    # Convert degrees to radians\n",
    "    pick_lat, pick_lon, drop_lat, drop_lon = map(np.radians, [pick_lat, pick_lon,\n",
    "                                                              drop_lat, drop_lon])\n",
    "    # Compute distances along lat, lon dimensions\n",
    "    dlat = drop_lat - pick_lat\n",
    "    dlon = drop_lon - pick_lon\n",
    "    \n",
    "    # Compute haversine distance\n",
    "    a = np.sin(dlat/2.0)**2 + np.cos(pick_lat) * np.cos(drop_lat) * np.sin(dlon/2.0)**2\n",
    "    return 2 * R_earth * np.arcsin(np.sqrt(a))\n",
    "\n",
    "def lga_dist(drop_lat, drop_lon):\n",
    "    pick_lat = 40.7769\n",
    "    pick_lon = -73.8740\n",
    "    R_earth = 6371 # Earth radius (in km)\n",
    "    # Convert degrees to radians\n",
    "    pick_lat, pick_lon, drop_lat, drop_lon = map(np.radians, [pick_lat, pick_lon,\n",
    "                                                              drop_lat, drop_lon])\n",
    "    # Compute distances along lat, lon dimensions\n",
    "    dlat = drop_lat - pick_lat\n",
    "    dlon = drop_lon - pick_lon\n",
    "    \n",
    "    # Compute haversine distance\n",
    "    a = np.sin(dlat/2.0)**2 + np.cos(pick_lat) * np.cos(drop_lat) * np.sin(dlon/2.0)**2\n",
    "    return 2 * R_earth * np.arcsin(np.sqrt(a))\n",
    "\n",
    "def ewr_dist(drop_lat, drop_lon):\n",
    "    pick_lat = 40.6895\n",
    "    pick_lon = -74.1745\n",
    "    \n",
    "    R_earth = 6371 # Earth radius (in km)\n",
    "    # Convert degrees to radians\n",
    "    pick_lat, pick_lon, drop_lat, drop_lon = map(np.radians, [pick_lat, pick_lon,\n",
    "                                                              drop_lat, drop_lon])\n",
    "    # Compute distances along lat, lon dimensions\n",
    "    dlat = drop_lat - pick_lat\n",
    "    dlon = drop_lon - pick_lon\n",
    "    \n",
    "    # Compute haversine distance\n",
    "    a = np.sin(dlat/2.0)**2 + np.cos(pick_lat) * np.cos(drop_lat) * np.sin(dlon/2.0)**2\n",
    "    return 2 * R_earth * np.arcsin(np.sqrt(a))\n",
    "\n",
    "def nyc_dist(pick_lat, pick_lon):\n",
    "    drop_lat = 40.7577\n",
    "    drop_lon = -73.9782\n",
    "    \n",
    "    R_earth = 6371 # Earth radius (in km)\n",
    "    # Convert degrees to radians\n",
    "    pick_lat, pick_lon, drop_lat, drop_lon = map(np.radians, [pick_lat, pick_lon,\n",
    "                                                              drop_lat, drop_lon])\n",
    "    # Compute distances along lat, lon dimensions\n",
    "    dlat = drop_lat - pick_lat\n",
    "    dlon = drop_lon - pick_lon\n",
    "    \n",
    "    # Compute haversine distance\n",
    "    a = np.sin(dlat/2.0)**2 + np.cos(pick_lat) * np.cos(drop_lat) * np.sin(dlon/2.0)**2\n",
    "    return 2 * R_earth * np.arcsin(np.sqrt(a))\n",
    "\n",
    "def nss_dist(pick_lat, pick_lon):\n",
    "    drop_lat = 40.7091\n",
    "    drop_lon = -74.0078\n",
    "    \n",
    "    R_earth = 6371 # Earth radius (in km)\n",
    "    # Convert degrees to radians\n",
    "    pick_lat, pick_lon, drop_lat, drop_lon = map(np.radians, [pick_lat, pick_lon,\n",
    "                                                              drop_lat, drop_lon])\n",
    "    # Compute distances along lat, lon dimensions\n",
    "    dlat = drop_lat - pick_lat\n",
    "    dlon = drop_lon - pick_lon\n",
    "    \n",
    "    # Compute haversine distance\n",
    "    a = np.sin(dlat/2.0)**2 + np.cos(pick_lat) * np.cos(drop_lat) * np.sin(dlon/2.0)**2\n",
    "    return 2 * R_earth * np.arcsin(np.sqrt(a))\n",
    "\n",
    "def sfs_dist(pick_lat, pick_lon):\n",
    "    drop_lat = 40.7187\n",
    "    drop_lon = -73.9861\n",
    "    \n",
    "    R_earth = 6371 # Earth radius (in km)\n",
    "    # Convert degrees to radians\n",
    "    pick_lat, pick_lon, drop_lat, drop_lon = map(np.radians, [pick_lat, pick_lon,\n",
    "                                                              drop_lat, drop_lon])\n",
    "    # Compute distances along lat, lon dimensions\n",
    "    dlat = drop_lat - pick_lat\n",
    "    dlon = drop_lon - pick_lon\n",
    "    \n",
    "    # Compute haversine distance\n",
    "    a = np.sin(dlat/2.0)**2 + np.cos(pick_lat) * np.cos(drop_lat) * np.sin(dlon/2.0)**2\n",
    "    return 2 * R_earth * np.arcsin(np.sqrt(a))"
   ]
  },
  {
   "cell_type": "code",
   "execution_count": 15,
   "metadata": {},
   "outputs": [
    {
     "name": "stdout",
     "output_type": "stream",
     "text": [
      "Time taken for exec :  1.2361247539520264\n"
     ]
    }
   ],
   "source": [
    "init_time = time.time()\n",
    "df['jfk'] = jfk_dist(df['dropoff_latitude'], df['dropoff_longitude'])\n",
    "df['lga'] = lga_dist(df['dropoff_latitude'], df['dropoff_longitude'])\n",
    "df['ewr'] = ewr_dist(df['dropoff_latitude'], df['dropoff_longitude'])\n",
    "df['nyc'] = nyc_dist(df['pickup_latitude'], df['pickup_longitude'])\n",
    "df['nss'] = nss_dist(df['pickup_latitude'], df['pickup_longitude'])\n",
    "df['sfs'] = sfs_dist(df['pickup_latitude'], df['pickup_longitude'])\n",
    "fin_time = time.time()\n",
    "print ('Time taken for exec : ',fin_time-init_time)"
   ]
  },
  {
   "cell_type": "code",
   "execution_count": 16,
   "metadata": {},
   "outputs": [
    {
     "data": {
      "text/html": [
       "<div>\n",
       "<style scoped>\n",
       "    .dataframe tbody tr th:only-of-type {\n",
       "        vertical-align: middle;\n",
       "    }\n",
       "\n",
       "    .dataframe tbody tr th {\n",
       "        vertical-align: top;\n",
       "    }\n",
       "\n",
       "    .dataframe thead th {\n",
       "        text-align: right;\n",
       "    }\n",
       "</style>\n",
       "<table border=\"1\" class=\"dataframe\">\n",
       "  <thead>\n",
       "    <tr style=\"text-align: right;\">\n",
       "      <th></th>\n",
       "      <th>fare_amount</th>\n",
       "      <th>pickup_longitude</th>\n",
       "      <th>pickup_latitude</th>\n",
       "      <th>dropoff_longitude</th>\n",
       "      <th>dropoff_latitude</th>\n",
       "      <th>passenger_count</th>\n",
       "      <th>distance</th>\n",
       "      <th>Year</th>\n",
       "      <th>Month</th>\n",
       "      <th>Date</th>\n",
       "      <th>Day of Week</th>\n",
       "      <th>Hour</th>\n",
       "      <th>jfk</th>\n",
       "      <th>lga</th>\n",
       "      <th>ewr</th>\n",
       "      <th>nyc</th>\n",
       "      <th>nss</th>\n",
       "      <th>sfs</th>\n",
       "    </tr>\n",
       "  </thead>\n",
       "  <tbody>\n",
       "    <tr>\n",
       "      <th>count</th>\n",
       "      <td>4422145.00</td>\n",
       "      <td>4422145.00</td>\n",
       "      <td>4422145.00</td>\n",
       "      <td>4422145.00</td>\n",
       "      <td>4422145.00</td>\n",
       "      <td>4422145.00</td>\n",
       "      <td>4422145.00</td>\n",
       "      <td>4422145.00</td>\n",
       "      <td>4422145.00</td>\n",
       "      <td>4422145.00</td>\n",
       "      <td>4422145.00</td>\n",
       "      <td>4422145.00</td>\n",
       "      <td>4422145.00</td>\n",
       "      <td>4422145.00</td>\n",
       "      <td>4422145.00</td>\n",
       "      <td>4422145.00</td>\n",
       "      <td>4422145.00</td>\n",
       "      <td>4422145.00</td>\n",
       "    </tr>\n",
       "    <tr>\n",
       "      <th>mean</th>\n",
       "      <td>11.28</td>\n",
       "      <td>-73.98</td>\n",
       "      <td>40.75</td>\n",
       "      <td>-73.97</td>\n",
       "      <td>40.75</td>\n",
       "      <td>1.33</td>\n",
       "      <td>3.30</td>\n",
       "      <td>2011.74</td>\n",
       "      <td>6.27</td>\n",
       "      <td>15.71</td>\n",
       "      <td>3.04</td>\n",
       "      <td>13.51</td>\n",
       "      <td>20.89</td>\n",
       "      <td>9.65</td>\n",
       "      <td>18.44</td>\n",
       "      <td>2.99</td>\n",
       "      <td>5.91</td>\n",
       "      <td>4.64</td>\n",
       "    </tr>\n",
       "    <tr>\n",
       "      <th>std</th>\n",
       "      <td>9.45</td>\n",
       "      <td>0.03</td>\n",
       "      <td>0.03</td>\n",
       "      <td>0.03</td>\n",
       "      <td>0.03</td>\n",
       "      <td>0.68</td>\n",
       "      <td>3.55</td>\n",
       "      <td>1.87</td>\n",
       "      <td>3.44</td>\n",
       "      <td>8.69</td>\n",
       "      <td>1.95</td>\n",
       "      <td>6.52</td>\n",
       "      <td>2.72</td>\n",
       "      <td>2.60</td>\n",
       "      <td>3.26</td>\n",
       "      <td>3.01</td>\n",
       "      <td>3.37</td>\n",
       "      <td>3.06</td>\n",
       "    </tr>\n",
       "    <tr>\n",
       "      <th>min</th>\n",
       "      <td>0.01</td>\n",
       "      <td>-74.28</td>\n",
       "      <td>40.45</td>\n",
       "      <td>-74.28</td>\n",
       "      <td>40.45</td>\n",
       "      <td>1.00</td>\n",
       "      <td>0.00</td>\n",
       "      <td>2009.00</td>\n",
       "      <td>1.00</td>\n",
       "      <td>1.00</td>\n",
       "      <td>0.00</td>\n",
       "      <td>0.00</td>\n",
       "      <td>0.15</td>\n",
       "      <td>0.06</td>\n",
       "      <td>0.13</td>\n",
       "      <td>0.00</td>\n",
       "      <td>0.01</td>\n",
       "      <td>0.01</td>\n",
       "    </tr>\n",
       "    <tr>\n",
       "      <th>25%</th>\n",
       "      <td>6.00</td>\n",
       "      <td>-73.99</td>\n",
       "      <td>40.74</td>\n",
       "      <td>-73.99</td>\n",
       "      <td>40.74</td>\n",
       "      <td>1.00</td>\n",
       "      <td>1.26</td>\n",
       "      <td>2010.00</td>\n",
       "      <td>3.00</td>\n",
       "      <td>8.00</td>\n",
       "      <td>1.00</td>\n",
       "      <td>9.00</td>\n",
       "      <td>20.54</td>\n",
       "      <td>8.32</td>\n",
       "      <td>16.49</td>\n",
       "      <td>1.24</td>\n",
       "      <td>3.61</td>\n",
       "      <td>2.58</td>\n",
       "    </tr>\n",
       "    <tr>\n",
       "      <th>50%</th>\n",
       "      <td>8.50</td>\n",
       "      <td>-73.98</td>\n",
       "      <td>40.75</td>\n",
       "      <td>-73.98</td>\n",
       "      <td>40.75</td>\n",
       "      <td>1.00</td>\n",
       "      <td>2.15</td>\n",
       "      <td>2012.00</td>\n",
       "      <td>6.00</td>\n",
       "      <td>16.00</td>\n",
       "      <td>3.00</td>\n",
       "      <td>14.00</td>\n",
       "      <td>21.19</td>\n",
       "      <td>9.52</td>\n",
       "      <td>17.97</td>\n",
       "      <td>2.33</td>\n",
       "      <td>5.59</td>\n",
       "      <td>4.18</td>\n",
       "    </tr>\n",
       "    <tr>\n",
       "      <th>75%</th>\n",
       "      <td>12.50</td>\n",
       "      <td>-73.97</td>\n",
       "      <td>40.77</td>\n",
       "      <td>-73.97</td>\n",
       "      <td>40.77</td>\n",
       "      <td>1.00</td>\n",
       "      <td>3.90</td>\n",
       "      <td>2013.00</td>\n",
       "      <td>9.00</td>\n",
       "      <td>23.00</td>\n",
       "      <td>5.00</td>\n",
       "      <td>19.00</td>\n",
       "      <td>21.91</td>\n",
       "      <td>10.99</td>\n",
       "      <td>19.79</td>\n",
       "      <td>3.64</td>\n",
       "      <td>7.57</td>\n",
       "      <td>5.95</td>\n",
       "    </tr>\n",
       "    <tr>\n",
       "      <th>max</th>\n",
       "      <td>250.00</td>\n",
       "      <td>-73.65</td>\n",
       "      <td>40.92</td>\n",
       "      <td>-73.65</td>\n",
       "      <td>40.92</td>\n",
       "      <td>4.00</td>\n",
       "      <td>48.30</td>\n",
       "      <td>2015.00</td>\n",
       "      <td>12.00</td>\n",
       "      <td>31.00</td>\n",
       "      <td>6.00</td>\n",
       "      <td>23.00</td>\n",
       "      <td>50.14</td>\n",
       "      <td>48.25</td>\n",
       "      <td>49.79</td>\n",
       "      <td>40.12</td>\n",
       "      <td>38.31</td>\n",
       "      <td>37.59</td>\n",
       "    </tr>\n",
       "  </tbody>\n",
       "</table>\n",
       "</div>"
      ],
      "text/plain": [
       "       fare_amount  pickup_longitude  pickup_latitude  dropoff_longitude  \\\n",
       "count   4422145.00        4422145.00       4422145.00         4422145.00   \n",
       "mean         11.28            -73.98            40.75             -73.97   \n",
       "std           9.45              0.03             0.03               0.03   \n",
       "min           0.01            -74.28            40.45             -74.28   \n",
       "25%           6.00            -73.99            40.74             -73.99   \n",
       "50%           8.50            -73.98            40.75             -73.98   \n",
       "75%          12.50            -73.97            40.77             -73.97   \n",
       "max         250.00            -73.65            40.92             -73.65   \n",
       "\n",
       "       dropoff_latitude  passenger_count   distance       Year      Month  \\\n",
       "count        4422145.00       4422145.00 4422145.00 4422145.00 4422145.00   \n",
       "mean              40.75             1.33       3.30    2011.74       6.27   \n",
       "std                0.03             0.68       3.55       1.87       3.44   \n",
       "min               40.45             1.00       0.00    2009.00       1.00   \n",
       "25%               40.74             1.00       1.26    2010.00       3.00   \n",
       "50%               40.75             1.00       2.15    2012.00       6.00   \n",
       "75%               40.77             1.00       3.90    2013.00       9.00   \n",
       "max               40.92             4.00      48.30    2015.00      12.00   \n",
       "\n",
       "            Date  Day of Week       Hour        jfk        lga        ewr  \\\n",
       "count 4422145.00   4422145.00 4422145.00 4422145.00 4422145.00 4422145.00   \n",
       "mean       15.71         3.04      13.51      20.89       9.65      18.44   \n",
       "std         8.69         1.95       6.52       2.72       2.60       3.26   \n",
       "min         1.00         0.00       0.00       0.15       0.06       0.13   \n",
       "25%         8.00         1.00       9.00      20.54       8.32      16.49   \n",
       "50%        16.00         3.00      14.00      21.19       9.52      17.97   \n",
       "75%        23.00         5.00      19.00      21.91      10.99      19.79   \n",
       "max        31.00         6.00      23.00      50.14      48.25      49.79   \n",
       "\n",
       "             nyc        nss        sfs  \n",
       "count 4422145.00 4422145.00 4422145.00  \n",
       "mean        2.99       5.91       4.64  \n",
       "std         3.01       3.37       3.06  \n",
       "min         0.00       0.01       0.01  \n",
       "25%         1.24       3.61       2.58  \n",
       "50%         2.33       5.59       4.18  \n",
       "75%         3.64       7.57       5.95  \n",
       "max        40.12      38.31      37.59  "
      ]
     },
     "execution_count": 16,
     "metadata": {},
     "output_type": "execute_result"
    }
   ],
   "source": [
    "df.describe()"
   ]
  },
  {
   "cell_type": "markdown",
   "metadata": {},
   "source": [
    "# Linear Regression"
   ]
  },
  {
   "cell_type": "code",
   "execution_count": 17,
   "metadata": {},
   "outputs": [],
   "source": [
    "x, y = df.drop(['fare_amount','key','pickup_datetime','pickup_longitude','pickup_latitude','dropoff_longitude','dropoff_latitude'], axis = 1), df['fare_amount']"
   ]
  },
  {
   "cell_type": "code",
   "execution_count": 18,
   "metadata": {},
   "outputs": [],
   "source": [
    "x_train, x_test, y_train, y_test = train_test_split(x, y, test_size = 0.3, random_state = 101)"
   ]
  },
  {
   "cell_type": "code",
   "execution_count": 19,
   "metadata": {},
   "outputs": [],
   "source": [
    "lm = LinearRegression()"
   ]
  },
  {
   "cell_type": "code",
   "execution_count": 20,
   "metadata": {},
   "outputs": [
    {
     "data": {
      "text/plain": [
       "LinearRegression()"
      ]
     },
     "execution_count": 20,
     "metadata": {},
     "output_type": "execute_result"
    }
   ],
   "source": [
    "lm.fit(x_train,y_train)"
   ]
  },
  {
   "cell_type": "code",
   "execution_count": 21,
   "metadata": {},
   "outputs": [],
   "source": [
    "pred = lm.predict(x_test)"
   ]
  },
  {
   "cell_type": "code",
   "execution_count": 22,
   "metadata": {
    "scrolled": true
   },
   "outputs": [
    {
     "name": "stdout",
     "output_type": "stream",
     "text": [
      "RMSE =  4.564947553874314\n"
     ]
    }
   ],
   "source": [
    "print('RMSE = ',np.sqrt(skm.mean_squared_error(y_test,pred)))"
   ]
  },
  {
   "cell_type": "raw",
   "metadata": {
    "scrolled": true
   },
   "source": [
    "fig = px.scatter( x = y_test, y = pred)\n",
    "fig.show()"
   ]
  },
  {
   "cell_type": "markdown",
   "metadata": {},
   "source": [
    "# Linear Regression using one-hot encoding"
   ]
  },
  {
   "cell_type": "code",
   "execution_count": 23,
   "metadata": {},
   "outputs": [],
   "source": [
    "values=['fare_amount', 'passenger_count','distance', 'Year', 'Month', 'Date', 'Day of Week','Hour']"
   ]
  },
  {
   "cell_type": "code",
   "execution_count": 24,
   "metadata": {},
   "outputs": [],
   "source": [
    "ld = df[values]"
   ]
  },
  {
   "cell_type": "code",
   "execution_count": 25,
   "metadata": {},
   "outputs": [],
   "source": [
    "cat_names = ['passenger_count']\n",
    "for i in cat_names:\n",
    "    temp = pd.get_dummies(df[i], prefix= i)\n",
    "    ld = ld.join(temp)"
   ]
  },
  {
   "cell_type": "code",
   "execution_count": 26,
   "metadata": {},
   "outputs": [
    {
     "data": {
      "text/html": [
       "<div>\n",
       "<style scoped>\n",
       "    .dataframe tbody tr th:only-of-type {\n",
       "        vertical-align: middle;\n",
       "    }\n",
       "\n",
       "    .dataframe tbody tr th {\n",
       "        vertical-align: top;\n",
       "    }\n",
       "\n",
       "    .dataframe thead th {\n",
       "        text-align: right;\n",
       "    }\n",
       "</style>\n",
       "<table border=\"1\" class=\"dataframe\">\n",
       "  <thead>\n",
       "    <tr style=\"text-align: right;\">\n",
       "      <th></th>\n",
       "      <th>fare_amount</th>\n",
       "      <th>passenger_count</th>\n",
       "      <th>distance</th>\n",
       "      <th>Year</th>\n",
       "      <th>Month</th>\n",
       "      <th>Date</th>\n",
       "      <th>Day of Week</th>\n",
       "      <th>Hour</th>\n",
       "      <th>passenger_count_1.0</th>\n",
       "      <th>passenger_count_2.0</th>\n",
       "      <th>passenger_count_3.0</th>\n",
       "      <th>passenger_count_4.0</th>\n",
       "    </tr>\n",
       "  </thead>\n",
       "  <tbody>\n",
       "    <tr>\n",
       "      <th>0</th>\n",
       "      <td>4.50</td>\n",
       "      <td>1.00</td>\n",
       "      <td>1.03</td>\n",
       "      <td>2009</td>\n",
       "      <td>6</td>\n",
       "      <td>15</td>\n",
       "      <td>0</td>\n",
       "      <td>17</td>\n",
       "      <td>1</td>\n",
       "      <td>0</td>\n",
       "      <td>0</td>\n",
       "      <td>0</td>\n",
       "    </tr>\n",
       "    <tr>\n",
       "      <th>1</th>\n",
       "      <td>16.90</td>\n",
       "      <td>1.00</td>\n",
       "      <td>8.45</td>\n",
       "      <td>2010</td>\n",
       "      <td>1</td>\n",
       "      <td>5</td>\n",
       "      <td>1</td>\n",
       "      <td>16</td>\n",
       "      <td>1</td>\n",
       "      <td>0</td>\n",
       "      <td>0</td>\n",
       "      <td>0</td>\n",
       "    </tr>\n",
       "    <tr>\n",
       "      <th>2</th>\n",
       "      <td>5.70</td>\n",
       "      <td>2.00</td>\n",
       "      <td>1.39</td>\n",
       "      <td>2011</td>\n",
       "      <td>8</td>\n",
       "      <td>18</td>\n",
       "      <td>3</td>\n",
       "      <td>0</td>\n",
       "      <td>0</td>\n",
       "      <td>1</td>\n",
       "      <td>0</td>\n",
       "      <td>0</td>\n",
       "    </tr>\n",
       "    <tr>\n",
       "      <th>3</th>\n",
       "      <td>7.70</td>\n",
       "      <td>1.00</td>\n",
       "      <td>2.80</td>\n",
       "      <td>2012</td>\n",
       "      <td>4</td>\n",
       "      <td>21</td>\n",
       "      <td>5</td>\n",
       "      <td>4</td>\n",
       "      <td>1</td>\n",
       "      <td>0</td>\n",
       "      <td>0</td>\n",
       "      <td>0</td>\n",
       "    </tr>\n",
       "    <tr>\n",
       "      <th>4</th>\n",
       "      <td>5.30</td>\n",
       "      <td>1.00</td>\n",
       "      <td>2.00</td>\n",
       "      <td>2010</td>\n",
       "      <td>3</td>\n",
       "      <td>9</td>\n",
       "      <td>1</td>\n",
       "      <td>7</td>\n",
       "      <td>1</td>\n",
       "      <td>0</td>\n",
       "      <td>0</td>\n",
       "      <td>0</td>\n",
       "    </tr>\n",
       "  </tbody>\n",
       "</table>\n",
       "</div>"
      ],
      "text/plain": [
       "   fare_amount  passenger_count  distance  Year  Month  Date  Day of Week  \\\n",
       "0         4.50             1.00      1.03  2009      6    15            0   \n",
       "1        16.90             1.00      8.45  2010      1     5            1   \n",
       "2         5.70             2.00      1.39  2011      8    18            3   \n",
       "3         7.70             1.00      2.80  2012      4    21            5   \n",
       "4         5.30             1.00      2.00  2010      3     9            1   \n",
       "\n",
       "   Hour  passenger_count_1.0  passenger_count_2.0  passenger_count_3.0  \\\n",
       "0    17                    1                    0                    0   \n",
       "1    16                    1                    0                    0   \n",
       "2     0                    0                    1                    0   \n",
       "3     4                    1                    0                    0   \n",
       "4     7                    1                    0                    0   \n",
       "\n",
       "   passenger_count_4.0  \n",
       "0                    0  \n",
       "1                    0  \n",
       "2                    0  \n",
       "3                    0  \n",
       "4                    0  "
      ]
     },
     "execution_count": 26,
     "metadata": {},
     "output_type": "execute_result"
    }
   ],
   "source": [
    "ld.head()"
   ]
  },
  {
   "cell_type": "code",
   "execution_count": 27,
   "metadata": {},
   "outputs": [],
   "source": [
    "nx, ny = ld.drop(['fare_amount'], axis = 1), ld['fare_amount']"
   ]
  },
  {
   "cell_type": "code",
   "execution_count": 28,
   "metadata": {},
   "outputs": [],
   "source": [
    "nx_train, nx_test, ny_train, ny_test = train_test_split(nx, ny, test_size = 0.3, random_state = 101)"
   ]
  },
  {
   "cell_type": "code",
   "execution_count": 29,
   "metadata": {},
   "outputs": [
    {
     "data": {
      "text/plain": [
       "LinearRegression()"
      ]
     },
     "execution_count": 29,
     "metadata": {},
     "output_type": "execute_result"
    }
   ],
   "source": [
    "lm.fit(nx_train,ny_train)"
   ]
  },
  {
   "cell_type": "code",
   "execution_count": 30,
   "metadata": {},
   "outputs": [],
   "source": [
    "npred = lm.predict(nx_test)"
   ]
  },
  {
   "cell_type": "code",
   "execution_count": 31,
   "metadata": {},
   "outputs": [
    {
     "name": "stdout",
     "output_type": "stream",
     "text": [
      "RMSE =  4.621234262329999\n"
     ]
    }
   ],
   "source": [
    "print('RMSE = ',np.sqrt(skm.mean_squared_error(ny_test,npred)))"
   ]
  },
  {
   "cell_type": "raw",
   "metadata": {
    "scrolled": false
   },
   "source": [
    "fig = px.scatter( x = ny_test, y = npred)\n",
    "fig.show()"
   ]
  },
  {
   "cell_type": "markdown",
   "metadata": {},
   "source": [
    "# Decision tree"
   ]
  },
  {
   "cell_type": "code",
   "execution_count": 32,
   "metadata": {},
   "outputs": [],
   "source": [
    "dt = DecisionTreeRegressor(max_depth = 6)"
   ]
  },
  {
   "cell_type": "code",
   "execution_count": 33,
   "metadata": {},
   "outputs": [
    {
     "data": {
      "text/plain": [
       "DecisionTreeRegressor(max_depth=6)"
      ]
     },
     "execution_count": 33,
     "metadata": {},
     "output_type": "execute_result"
    }
   ],
   "source": [
    "dt.fit(x_train, y_train)"
   ]
  },
  {
   "cell_type": "code",
   "execution_count": 34,
   "metadata": {},
   "outputs": [],
   "source": [
    "dt_pred = dt.predict(x_test)"
   ]
  },
  {
   "cell_type": "code",
   "execution_count": 35,
   "metadata": {},
   "outputs": [
    {
     "name": "stdout",
     "output_type": "stream",
     "text": [
      "RMSE =  4.087234775831742\n"
     ]
    }
   ],
   "source": [
    "print('RMSE = ',np.sqrt(skm.mean_squared_error(y_test,dt_pred)))"
   ]
  },
  {
   "cell_type": "raw",
   "metadata": {},
   "source": [
    "fig = px.scatter( x = y_test, y = dt_pred)\n",
    "fig.show()"
   ]
  },
  {
   "cell_type": "markdown",
   "metadata": {},
   "source": [
    "# Random Forest"
   ]
  },
  {
   "cell_type": "code",
   "execution_count": 37,
   "metadata": {},
   "outputs": [],
   "source": [
    "rf = RandomForestRegressor(n_estimators = 20, min_samples_leaf = 60)"
   ]
  },
  {
   "cell_type": "code",
   "execution_count": 38,
   "metadata": {},
   "outputs": [
    {
     "data": {
      "text/plain": [
       "RandomForestRegressor(min_samples_leaf=60, n_estimators=20)"
      ]
     },
     "execution_count": 38,
     "metadata": {},
     "output_type": "execute_result"
    }
   ],
   "source": [
    "rf"
   ]
  },
  {
   "cell_type": "code",
   "execution_count": 39,
   "metadata": {},
   "outputs": [
    {
     "data": {
      "text/plain": [
       "RandomForestRegressor(min_samples_leaf=60, n_estimators=20)"
      ]
     },
     "execution_count": 39,
     "metadata": {},
     "output_type": "execute_result"
    }
   ],
   "source": [
    "rf.fit(x_train, y_train)"
   ]
  },
  {
   "cell_type": "code",
   "execution_count": 40,
   "metadata": {},
   "outputs": [],
   "source": [
    "rf_pred = rf.predict(x_test)"
   ]
  },
  {
   "cell_type": "code",
   "execution_count": 41,
   "metadata": {},
   "outputs": [
    {
     "name": "stdout",
     "output_type": "stream",
     "text": [
      "RMSE =  3.5758632267867614\n"
     ]
    }
   ],
   "source": [
    "print('RMSE = ',np.sqrt(skm.mean_squared_error(y_test,rf_pred)))"
   ]
  },
  {
   "cell_type": "raw",
   "metadata": {},
   "source": [
    "fig = px.scatter( x = y_test, y = rf_pred)\n",
    "fig.show()"
   ]
  },
  {
   "cell_type": "markdown",
   "metadata": {},
   "source": [
    "# XG Boost"
   ]
  },
  {
   "cell_type": "code",
   "execution_count": 42,
   "metadata": {},
   "outputs": [
    {
     "name": "stdout",
     "output_type": "stream",
     "text": [
      "[22:18:56] WARNING: C:\\Users\\Administrator\\workspace\\xgboost-win64_release_1.1.0\\src\\learner.cc:480: \n",
      "Parameters: { n_estimators, silent } might not be used.\n",
      "\n",
      "  This may not be accurate due to some parameters are only used in language bindings but\n",
      "  passed down to XGBoost core.  Or some parameters are not used but slip through this\n",
      "  verification. Please open an issue if you find above cases.\n",
      "\n",
      "\n",
      "[0]\ttrain-rmse:13.73034\tvalid-rmse:13.72587\n",
      "Multiple eval metrics have been passed: 'valid-rmse' will be used for early stopping.\n",
      "\n",
      "Will train until valid-rmse hasn't improved in 100 rounds.\n",
      "[50]\ttrain-rmse:3.65696\tvalid-rmse:3.75330\n",
      "[100]\ttrain-rmse:3.31427\tvalid-rmse:3.48601\n",
      "[150]\ttrain-rmse:3.21807\tvalid-rmse:3.44205\n",
      "[200]\ttrain-rmse:3.15378\tvalid-rmse:3.41885\n",
      "[250]\ttrain-rmse:3.10646\tvalid-rmse:3.40365\n",
      "[300]\ttrain-rmse:3.06102\tvalid-rmse:3.39025\n",
      "[350]\ttrain-rmse:3.02488\tvalid-rmse:3.38101\n",
      "[400]\ttrain-rmse:2.98996\tvalid-rmse:3.37334\n",
      "[450]\ttrain-rmse:2.96037\tvalid-rmse:3.36946\n",
      "[500]\ttrain-rmse:2.93302\tvalid-rmse:3.36517\n",
      "[550]\ttrain-rmse:2.90959\tvalid-rmse:3.36124\n",
      "[600]\ttrain-rmse:2.88668\tvalid-rmse:3.35852\n",
      "[650]\ttrain-rmse:2.86115\tvalid-rmse:3.35589\n",
      "[699]\ttrain-rmse:2.83912\tvalid-rmse:3.35369\n"
     ]
    }
   ],
   "source": [
    "dtrain = xgb.DMatrix(x_train, label=y_train)\n",
    "dvalid = xgb.DMatrix(x_test, label=y_test)\n",
    "watchlist = [(dtrain, 'train'), (dvalid, 'valid')]\n",
    "\n",
    "xgb_params = {\n",
    "    'min_child_weight': 1, \n",
    "    'learning_rate': 0.05, \n",
    "    'colsample_bytree': 0.7, \n",
    "    'max_depth': 10,\n",
    "    'subsample': 0.7,\n",
    "    'n_estimators': 5000,\n",
    "    'n_jobs': -1, \n",
    "    'booster' : 'gbtree', \n",
    "    'silent': 1,\n",
    "    'eval_metric': 'rmse'}\n",
    "\n",
    "model = xgb.train(xgb_params, dtrain, 700, watchlist, early_stopping_rounds=100, maximize=False, verbose_eval=50)"
   ]
  },
  {
   "cell_type": "code",
   "execution_count": null,
   "metadata": {},
   "outputs": [],
   "source": []
  }
 ],
 "metadata": {
  "kernelspec": {
   "display_name": "Python 3",
   "language": "python",
   "name": "python3"
  },
  "language_info": {
   "codemirror_mode": {
    "name": "ipython",
    "version": 3
   },
   "file_extension": ".py",
   "mimetype": "text/x-python",
   "name": "python",
   "nbconvert_exporter": "python",
   "pygments_lexer": "ipython3",
   "version": "3.8.5"
  }
 },
 "nbformat": 4,
 "nbformat_minor": 4
}
