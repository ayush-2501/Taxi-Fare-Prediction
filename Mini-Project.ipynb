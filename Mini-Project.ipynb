{
 "cells": [
  {
   "cell_type": "markdown",
   "metadata": {},
   "source": [
    "# Importing Libraries"
   ]
  },
  {
   "cell_type": "code",
   "execution_count": 1,
   "metadata": {},
   "outputs": [
    {
     "data": {
      "text/html": [
       "        <script type=\"text/javascript\">\n",
       "        window.PlotlyConfig = {MathJaxConfig: 'local'};\n",
       "        if (window.MathJax) {MathJax.Hub.Config({SVG: {font: \"STIX-Web\"}});}\n",
       "        if (typeof require !== 'undefined') {\n",
       "        require.undef(\"plotly\");\n",
       "        requirejs.config({\n",
       "            paths: {\n",
       "                'plotly': ['https://cdn.plot.ly/plotly-latest.min']\n",
       "            }\n",
       "        });\n",
       "        require(['plotly'], function(Plotly) {\n",
       "            window._Plotly = Plotly;\n",
       "        });\n",
       "        }\n",
       "        </script>\n",
       "        "
      ]
     },
     "metadata": {},
     "output_type": "display_data"
    }
   ],
   "source": [
    "import pandas as pd\n",
    "import time\n",
    "import numpy as np\n",
    "import seaborn as sns\n",
    "import matplotlib.pyplot as plt\n",
    "from sklearn.model_selection import train_test_split\n",
    "import sklearn.metrics as skm\n",
    "\n",
    "import plotly.figure_factory as ff\n",
    "\n",
    "import cufflinks as cf\n",
    "cf.go_offline()\n",
    "cf.set_config_file(offline=False, world_readable=True)\n",
    "\n",
    "import plotly.express as px\n",
    "import plotly.io as pio\n",
    "import plotly.graph_objects as go\n",
    "\n",
    "pd.options.plotting.backend = \"plotly\"\n",
    "pio.templates.default = 'plotly_dark'\n",
    "\n",
    "from sklearn.linear_model import LinearRegression\n",
    "from sklearn.tree import DecisionTreeRegressor\n",
    "from sklearn.ensemble import RandomForestRegressor\n",
    "import xgboost as xgb\n",
    "\n",
    "import keras\n",
    "from keras.models import Sequential\n",
    "from keras.layers import Dense"
   ]
  },
  {
   "cell_type": "markdown",
   "metadata": {},
   "source": [
    "# Import Training Data"
   ]
  },
  {
   "cell_type": "code",
   "execution_count": 2,
   "metadata": {},
   "outputs": [
    {
     "name": "stdout",
     "output_type": "stream",
     "text": [
      "Time Taken =  14.41999626159668\n"
     ]
    }
   ],
   "source": [
    "init_time = time.time()\n",
    "df = pd.read_csv(\"train_fare.csv\")\n",
    "fin_time = time.time()\n",
    "print('Time Taken = ',fin_time-init_time)"
   ]
  },
  {
   "cell_type": "code",
   "execution_count": 3,
   "metadata": {},
   "outputs": [
    {
     "data": {
      "text/html": [
       "<div>\n",
       "<style scoped>\n",
       "    .dataframe tbody tr th:only-of-type {\n",
       "        vertical-align: middle;\n",
       "    }\n",
       "\n",
       "    .dataframe tbody tr th {\n",
       "        vertical-align: top;\n",
       "    }\n",
       "\n",
       "    .dataframe thead th {\n",
       "        text-align: right;\n",
       "    }\n",
       "</style>\n",
       "<table border=\"1\" class=\"dataframe\">\n",
       "  <thead>\n",
       "    <tr style=\"text-align: right;\">\n",
       "      <th></th>\n",
       "      <th>fare_amount</th>\n",
       "      <th>pickup_longitude</th>\n",
       "      <th>pickup_latitude</th>\n",
       "      <th>dropoff_longitude</th>\n",
       "      <th>dropoff_latitude</th>\n",
       "      <th>passenger_count</th>\n",
       "      <th>dis</th>\n",
       "      <th>pick_jfk</th>\n",
       "      <th>pick_lga</th>\n",
       "      <th>pick_ewr</th>\n",
       "      <th>...</th>\n",
       "      <th>drop_ewr</th>\n",
       "      <th>lib</th>\n",
       "      <th>nyc</th>\n",
       "      <th>nss</th>\n",
       "      <th>sfs</th>\n",
       "      <th>Year</th>\n",
       "      <th>Month</th>\n",
       "      <th>Date</th>\n",
       "      <th>Day of Week</th>\n",
       "      <th>Hour</th>\n",
       "    </tr>\n",
       "  </thead>\n",
       "  <tbody>\n",
       "    <tr>\n",
       "      <th>count</th>\n",
       "      <td>4.893757e+06</td>\n",
       "      <td>4.893757e+06</td>\n",
       "      <td>4.893757e+06</td>\n",
       "      <td>4.893757e+06</td>\n",
       "      <td>4.893757e+06</td>\n",
       "      <td>4.893757e+06</td>\n",
       "      <td>4.893757e+06</td>\n",
       "      <td>4.893757e+06</td>\n",
       "      <td>4.893757e+06</td>\n",
       "      <td>4.893757e+06</td>\n",
       "      <td>...</td>\n",
       "      <td>4.893757e+06</td>\n",
       "      <td>4.893757e+06</td>\n",
       "      <td>4.893757e+06</td>\n",
       "      <td>4.893757e+06</td>\n",
       "      <td>4.893757e+06</td>\n",
       "      <td>4.893757e+06</td>\n",
       "      <td>4.893757e+06</td>\n",
       "      <td>4.893757e+06</td>\n",
       "      <td>4.893757e+06</td>\n",
       "      <td>4.893757e+06</td>\n",
       "    </tr>\n",
       "    <tr>\n",
       "      <th>mean</th>\n",
       "      <td>1.130765e+01</td>\n",
       "      <td>-7.397518e+01</td>\n",
       "      <td>4.075104e+01</td>\n",
       "      <td>-7.397433e+01</td>\n",
       "      <td>4.075141e+01</td>\n",
       "      <td>1.684524e+00</td>\n",
       "      <td>3.329680e+00</td>\n",
       "      <td>2.092487e+01</td>\n",
       "      <td>9.690042e+00</td>\n",
       "      <td>1.848865e+01</td>\n",
       "      <td>...</td>\n",
       "      <td>1.835533e+01</td>\n",
       "      <td>9.543668e+00</td>\n",
       "      <td>3.045107e+00</td>\n",
       "      <td>5.966981e+00</td>\n",
       "      <td>4.698996e+00</td>\n",
       "      <td>2.011736e+03</td>\n",
       "      <td>6.268651e+00</td>\n",
       "      <td>1.571701e+01</td>\n",
       "      <td>3.041605e+00</td>\n",
       "      <td>1.351137e+01</td>\n",
       "    </tr>\n",
       "    <tr>\n",
       "      <th>std</th>\n",
       "      <td>9.574454e+00</td>\n",
       "      <td>3.895083e-02</td>\n",
       "      <td>2.997922e-02</td>\n",
       "      <td>3.810609e-02</td>\n",
       "      <td>3.314532e-02</td>\n",
       "      <td>1.307684e+00</td>\n",
       "      <td>3.793898e+00</td>\n",
       "      <td>3.104879e+00</td>\n",
       "      <td>3.068253e+00</td>\n",
       "      <td>3.743363e+00</td>\n",
       "      <td>...</td>\n",
       "      <td>3.734315e+00</td>\n",
       "      <td>3.952870e+00</td>\n",
       "      <td>3.634363e+00</td>\n",
       "      <td>3.946078e+00</td>\n",
       "      <td>3.683681e+00</td>\n",
       "      <td>1.862968e+00</td>\n",
       "      <td>3.436545e+00</td>\n",
       "      <td>8.685090e+00</td>\n",
       "      <td>1.949380e+00</td>\n",
       "      <td>6.514874e+00</td>\n",
       "    </tr>\n",
       "    <tr>\n",
       "      <th>min</th>\n",
       "      <td>2.500000e+00</td>\n",
       "      <td>-7.498856e+01</td>\n",
       "      <td>4.003383e+01</td>\n",
       "      <td>-7.499828e+01</td>\n",
       "      <td>4.000565e+01</td>\n",
       "      <td>0.000000e+00</td>\n",
       "      <td>0.000000e+00</td>\n",
       "      <td>1.475508e-01</td>\n",
       "      <td>3.368652e-02</td>\n",
       "      <td>1.349275e-01</td>\n",
       "      <td>...</td>\n",
       "      <td>3.618007e-02</td>\n",
       "      <td>4.898866e-02</td>\n",
       "      <td>3.366094e-04</td>\n",
       "      <td>5.339799e-03</td>\n",
       "      <td>1.041811e-02</td>\n",
       "      <td>2.009000e+03</td>\n",
       "      <td>1.000000e+00</td>\n",
       "      <td>1.000000e+00</td>\n",
       "      <td>0.000000e+00</td>\n",
       "      <td>0.000000e+00</td>\n",
       "    </tr>\n",
       "    <tr>\n",
       "      <th>25%</th>\n",
       "      <td>6.000000e+00</td>\n",
       "      <td>-7.399227e+01</td>\n",
       "      <td>4.073655e+01</td>\n",
       "      <td>-7.399158e+01</td>\n",
       "      <td>4.073560e+01</td>\n",
       "      <td>1.000000e+00</td>\n",
       "      <td>1.253349e+00</td>\n",
       "      <td>2.053507e+01</td>\n",
       "      <td>8.322832e+00</td>\n",
       "      <td>1.648999e+01</td>\n",
       "      <td>...</td>\n",
       "      <td>1.636911e+01</td>\n",
       "      <td>7.164995e+00</td>\n",
       "      <td>1.236304e+00</td>\n",
       "      <td>3.615365e+00</td>\n",
       "      <td>2.580605e+00</td>\n",
       "      <td>2.010000e+03</td>\n",
       "      <td>3.000000e+00</td>\n",
       "      <td>8.000000e+00</td>\n",
       "      <td>1.000000e+00</td>\n",
       "      <td>9.000000e+00</td>\n",
       "    </tr>\n",
       "    <tr>\n",
       "      <th>50%</th>\n",
       "      <td>8.500000e+00</td>\n",
       "      <td>-7.398210e+01</td>\n",
       "      <td>4.075335e+01</td>\n",
       "      <td>-7.398061e+01</td>\n",
       "      <td>4.075386e+01</td>\n",
       "      <td>1.000000e+00</td>\n",
       "      <td>2.152117e+00</td>\n",
       "      <td>2.118912e+01</td>\n",
       "      <td>9.524412e+00</td>\n",
       "      <td>1.797386e+01</td>\n",
       "      <td>...</td>\n",
       "      <td>1.782185e+01</td>\n",
       "      <td>9.129285e+00</td>\n",
       "      <td>2.331827e+00</td>\n",
       "      <td>5.601878e+00</td>\n",
       "      <td>4.181293e+00</td>\n",
       "      <td>2.012000e+03</td>\n",
       "      <td>6.000000e+00</td>\n",
       "      <td>1.600000e+01</td>\n",
       "      <td>3.000000e+00</td>\n",
       "      <td>1.400000e+01</td>\n",
       "    </tr>\n",
       "    <tr>\n",
       "      <th>75%</th>\n",
       "      <td>1.250000e+01</td>\n",
       "      <td>-7.396833e+01</td>\n",
       "      <td>4.076754e+01</td>\n",
       "      <td>-7.396536e+01</td>\n",
       "      <td>4.076840e+01</td>\n",
       "      <td>2.000000e+00</td>\n",
       "      <td>3.909590e+00</td>\n",
       "      <td>2.191394e+01</td>\n",
       "      <td>1.099023e+01</td>\n",
       "      <td>1.980174e+01</td>\n",
       "      <td>...</td>\n",
       "      <td>1.946658e+01</td>\n",
       "      <td>1.130821e+01</td>\n",
       "      <td>3.643930e+00</td>\n",
       "      <td>7.583171e+00</td>\n",
       "      <td>5.968077e+00</td>\n",
       "      <td>2.013000e+03</td>\n",
       "      <td>9.000000e+00</td>\n",
       "      <td>2.300000e+01</td>\n",
       "      <td>5.000000e+00</td>\n",
       "      <td>1.900000e+01</td>\n",
       "    </tr>\n",
       "    <tr>\n",
       "      <th>max</th>\n",
       "      <td>4.950000e+02</td>\n",
       "      <td>-7.206320e+01</td>\n",
       "      <td>4.192279e+01</td>\n",
       "      <td>-7.206700e+01</td>\n",
       "      <td>4.199811e+01</td>\n",
       "      <td>6.000000e+00</td>\n",
       "      <td>1.616862e+02</td>\n",
       "      <td>1.783438e+02</td>\n",
       "      <td>1.765042e+02</td>\n",
       "      <td>2.032123e+02</td>\n",
       "      <td>...</td>\n",
       "      <td>1.794818e+02</td>\n",
       "      <td>1.938528e+02</td>\n",
       "      <td>1.616659e+02</td>\n",
       "      <td>1.674743e+02</td>\n",
       "      <td>1.655208e+02</td>\n",
       "      <td>2.015000e+03</td>\n",
       "      <td>1.200000e+01</td>\n",
       "      <td>3.100000e+01</td>\n",
       "      <td>6.000000e+00</td>\n",
       "      <td>2.300000e+01</td>\n",
       "    </tr>\n",
       "  </tbody>\n",
       "</table>\n",
       "<p>8 rows × 22 columns</p>\n",
       "</div>"
      ],
      "text/plain": [
       "        fare_amount  pickup_longitude  pickup_latitude  dropoff_longitude  \\\n",
       "count  4.893757e+06      4.893757e+06     4.893757e+06       4.893757e+06   \n",
       "mean   1.130765e+01     -7.397518e+01     4.075104e+01      -7.397433e+01   \n",
       "std    9.574454e+00      3.895083e-02     2.997922e-02       3.810609e-02   \n",
       "min    2.500000e+00     -7.498856e+01     4.003383e+01      -7.499828e+01   \n",
       "25%    6.000000e+00     -7.399227e+01     4.073655e+01      -7.399158e+01   \n",
       "50%    8.500000e+00     -7.398210e+01     4.075335e+01      -7.398061e+01   \n",
       "75%    1.250000e+01     -7.396833e+01     4.076754e+01      -7.396536e+01   \n",
       "max    4.950000e+02     -7.206320e+01     4.192279e+01      -7.206700e+01   \n",
       "\n",
       "       dropoff_latitude  passenger_count           dis      pick_jfk  \\\n",
       "count      4.893757e+06     4.893757e+06  4.893757e+06  4.893757e+06   \n",
       "mean       4.075141e+01     1.684524e+00  3.329680e+00  2.092487e+01   \n",
       "std        3.314532e-02     1.307684e+00  3.793898e+00  3.104879e+00   \n",
       "min        4.000565e+01     0.000000e+00  0.000000e+00  1.475508e-01   \n",
       "25%        4.073560e+01     1.000000e+00  1.253349e+00  2.053507e+01   \n",
       "50%        4.075386e+01     1.000000e+00  2.152117e+00  2.118912e+01   \n",
       "75%        4.076840e+01     2.000000e+00  3.909590e+00  2.191394e+01   \n",
       "max        4.199811e+01     6.000000e+00  1.616862e+02  1.783438e+02   \n",
       "\n",
       "           pick_lga      pick_ewr  ...      drop_ewr           lib  \\\n",
       "count  4.893757e+06  4.893757e+06  ...  4.893757e+06  4.893757e+06   \n",
       "mean   9.690042e+00  1.848865e+01  ...  1.835533e+01  9.543668e+00   \n",
       "std    3.068253e+00  3.743363e+00  ...  3.734315e+00  3.952870e+00   \n",
       "min    3.368652e-02  1.349275e-01  ...  3.618007e-02  4.898866e-02   \n",
       "25%    8.322832e+00  1.648999e+01  ...  1.636911e+01  7.164995e+00   \n",
       "50%    9.524412e+00  1.797386e+01  ...  1.782185e+01  9.129285e+00   \n",
       "75%    1.099023e+01  1.980174e+01  ...  1.946658e+01  1.130821e+01   \n",
       "max    1.765042e+02  2.032123e+02  ...  1.794818e+02  1.938528e+02   \n",
       "\n",
       "                nyc           nss           sfs          Year         Month  \\\n",
       "count  4.893757e+06  4.893757e+06  4.893757e+06  4.893757e+06  4.893757e+06   \n",
       "mean   3.045107e+00  5.966981e+00  4.698996e+00  2.011736e+03  6.268651e+00   \n",
       "std    3.634363e+00  3.946078e+00  3.683681e+00  1.862968e+00  3.436545e+00   \n",
       "min    3.366094e-04  5.339799e-03  1.041811e-02  2.009000e+03  1.000000e+00   \n",
       "25%    1.236304e+00  3.615365e+00  2.580605e+00  2.010000e+03  3.000000e+00   \n",
       "50%    2.331827e+00  5.601878e+00  4.181293e+00  2.012000e+03  6.000000e+00   \n",
       "75%    3.643930e+00  7.583171e+00  5.968077e+00  2.013000e+03  9.000000e+00   \n",
       "max    1.616659e+02  1.674743e+02  1.655208e+02  2.015000e+03  1.200000e+01   \n",
       "\n",
       "               Date   Day of Week          Hour  \n",
       "count  4.893757e+06  4.893757e+06  4.893757e+06  \n",
       "mean   1.571701e+01  3.041605e+00  1.351137e+01  \n",
       "std    8.685090e+00  1.949380e+00  6.514874e+00  \n",
       "min    1.000000e+00  0.000000e+00  0.000000e+00  \n",
       "25%    8.000000e+00  1.000000e+00  9.000000e+00  \n",
       "50%    1.600000e+01  3.000000e+00  1.400000e+01  \n",
       "75%    2.300000e+01  5.000000e+00  1.900000e+01  \n",
       "max    3.100000e+01  6.000000e+00  2.300000e+01  \n",
       "\n",
       "[8 rows x 22 columns]"
      ]
     },
     "execution_count": 3,
     "metadata": {},
     "output_type": "execute_result"
    }
   ],
   "source": [
    "df.describe()"
   ]
  },
  {
   "cell_type": "code",
   "execution_count": 4,
   "metadata": {
    "scrolled": true
   },
   "outputs": [
    {
     "data": {
      "text/html": [
       "<div>\n",
       "<style scoped>\n",
       "    .dataframe tbody tr th:only-of-type {\n",
       "        vertical-align: middle;\n",
       "    }\n",
       "\n",
       "    .dataframe tbody tr th {\n",
       "        vertical-align: top;\n",
       "    }\n",
       "\n",
       "    .dataframe thead th {\n",
       "        text-align: right;\n",
       "    }\n",
       "</style>\n",
       "<table border=\"1\" class=\"dataframe\">\n",
       "  <thead>\n",
       "    <tr style=\"text-align: right;\">\n",
       "      <th></th>\n",
       "      <th>key</th>\n",
       "      <th>fare_amount</th>\n",
       "      <th>pickup_datetime</th>\n",
       "      <th>pickup_longitude</th>\n",
       "      <th>pickup_latitude</th>\n",
       "      <th>dropoff_longitude</th>\n",
       "      <th>dropoff_latitude</th>\n",
       "      <th>passenger_count</th>\n",
       "      <th>dis</th>\n",
       "      <th>pick_jfk</th>\n",
       "      <th>...</th>\n",
       "      <th>drop_ewr</th>\n",
       "      <th>lib</th>\n",
       "      <th>nyc</th>\n",
       "      <th>nss</th>\n",
       "      <th>sfs</th>\n",
       "      <th>Year</th>\n",
       "      <th>Month</th>\n",
       "      <th>Date</th>\n",
       "      <th>Day of Week</th>\n",
       "      <th>Hour</th>\n",
       "    </tr>\n",
       "  </thead>\n",
       "  <tbody>\n",
       "    <tr>\n",
       "      <th>0</th>\n",
       "      <td>2009-06-15 17:26:21.0000001</td>\n",
       "      <td>4.5</td>\n",
       "      <td>2009-06-15 17:26:21+00:00</td>\n",
       "      <td>-73.844311</td>\n",
       "      <td>40.721319</td>\n",
       "      <td>-73.841610</td>\n",
       "      <td>40.712278</td>\n",
       "      <td>1</td>\n",
       "      <td>1.030764</td>\n",
       "      <td>9.538054</td>\n",
       "      <td>...</td>\n",
       "      <td>28.056864</td>\n",
       "      <td>17.295010</td>\n",
       "      <td>11.983691</td>\n",
       "      <td>13.845911</td>\n",
       "      <td>11.952866</td>\n",
       "      <td>2009</td>\n",
       "      <td>6</td>\n",
       "      <td>15</td>\n",
       "      <td>0</td>\n",
       "      <td>17</td>\n",
       "    </tr>\n",
       "    <tr>\n",
       "      <th>1</th>\n",
       "      <td>2010-01-05 16:52:16.0000002</td>\n",
       "      <td>16.9</td>\n",
       "      <td>2010-01-05 16:52:16+00:00</td>\n",
       "      <td>-74.016048</td>\n",
       "      <td>40.711303</td>\n",
       "      <td>-73.979268</td>\n",
       "      <td>40.782004</td>\n",
       "      <td>1</td>\n",
       "      <td>8.450134</td>\n",
       "      <td>23.071126</td>\n",
       "      <td>...</td>\n",
       "      <td>13.575760</td>\n",
       "      <td>11.691725</td>\n",
       "      <td>6.065137</td>\n",
       "      <td>0.737101</td>\n",
       "      <td>2.654702</td>\n",
       "      <td>2010</td>\n",
       "      <td>1</td>\n",
       "      <td>5</td>\n",
       "      <td>1</td>\n",
       "      <td>16</td>\n",
       "    </tr>\n",
       "    <tr>\n",
       "      <th>2</th>\n",
       "      <td>2011-08-18 00:35:00.00000049</td>\n",
       "      <td>5.7</td>\n",
       "      <td>2011-08-18 00:35:00+00:00</td>\n",
       "      <td>-73.982738</td>\n",
       "      <td>40.761270</td>\n",
       "      <td>-73.991242</td>\n",
       "      <td>40.750562</td>\n",
       "      <td>2</td>\n",
       "      <td>1.389525</td>\n",
       "      <td>21.690922</td>\n",
       "      <td>...</td>\n",
       "      <td>18.022686</td>\n",
       "      <td>8.167039</td>\n",
       "      <td>0.551063</td>\n",
       "      <td>6.173413</td>\n",
       "      <td>4.742035</td>\n",
       "      <td>2011</td>\n",
       "      <td>8</td>\n",
       "      <td>18</td>\n",
       "      <td>3</td>\n",
       "      <td>0</td>\n",
       "    </tr>\n",
       "    <tr>\n",
       "      <th>3</th>\n",
       "      <td>2012-04-21 04:30:42.0000001</td>\n",
       "      <td>7.7</td>\n",
       "      <td>2012-04-21 04:30:42+00:00</td>\n",
       "      <td>-73.987130</td>\n",
       "      <td>40.733143</td>\n",
       "      <td>-73.991567</td>\n",
       "      <td>40.758092</td>\n",
       "      <td>1</td>\n",
       "      <td>2.799270</td>\n",
       "      <td>22.192143</td>\n",
       "      <td>...</td>\n",
       "      <td>16.521526</td>\n",
       "      <td>8.864549</td>\n",
       "      <td>2.832348</td>\n",
       "      <td>3.190886</td>\n",
       "      <td>1.608332</td>\n",
       "      <td>2012</td>\n",
       "      <td>4</td>\n",
       "      <td>21</td>\n",
       "      <td>5</td>\n",
       "      <td>4</td>\n",
       "    </tr>\n",
       "    <tr>\n",
       "      <th>4</th>\n",
       "      <td>2010-03-09 07:51:00.000000135</td>\n",
       "      <td>5.3</td>\n",
       "      <td>2010-03-09 07:51:00+00:00</td>\n",
       "      <td>-73.968095</td>\n",
       "      <td>40.768008</td>\n",
       "      <td>-73.956655</td>\n",
       "      <td>40.783762</td>\n",
       "      <td>1</td>\n",
       "      <td>1.999157</td>\n",
       "      <td>21.850063</td>\n",
       "      <td>...</td>\n",
       "      <td>19.460441</td>\n",
       "      <td>12.858502</td>\n",
       "      <td>1.427607</td>\n",
       "      <td>7.355035</td>\n",
       "      <td>5.688753</td>\n",
       "      <td>2010</td>\n",
       "      <td>3</td>\n",
       "      <td>9</td>\n",
       "      <td>1</td>\n",
       "      <td>7</td>\n",
       "    </tr>\n",
       "  </tbody>\n",
       "</table>\n",
       "<p>5 rows × 24 columns</p>\n",
       "</div>"
      ],
      "text/plain": [
       "                             key  fare_amount            pickup_datetime  \\\n",
       "0    2009-06-15 17:26:21.0000001          4.5  2009-06-15 17:26:21+00:00   \n",
       "1    2010-01-05 16:52:16.0000002         16.9  2010-01-05 16:52:16+00:00   \n",
       "2   2011-08-18 00:35:00.00000049          5.7  2011-08-18 00:35:00+00:00   \n",
       "3    2012-04-21 04:30:42.0000001          7.7  2012-04-21 04:30:42+00:00   \n",
       "4  2010-03-09 07:51:00.000000135          5.3  2010-03-09 07:51:00+00:00   \n",
       "\n",
       "   pickup_longitude  pickup_latitude  dropoff_longitude  dropoff_latitude  \\\n",
       "0        -73.844311        40.721319         -73.841610         40.712278   \n",
       "1        -74.016048        40.711303         -73.979268         40.782004   \n",
       "2        -73.982738        40.761270         -73.991242         40.750562   \n",
       "3        -73.987130        40.733143         -73.991567         40.758092   \n",
       "4        -73.968095        40.768008         -73.956655         40.783762   \n",
       "\n",
       "   passenger_count       dis   pick_jfk  ...   drop_ewr        lib        nyc  \\\n",
       "0                1  1.030764   9.538054  ...  28.056864  17.295010  11.983691   \n",
       "1                1  8.450134  23.071126  ...  13.575760  11.691725   6.065137   \n",
       "2                2  1.389525  21.690922  ...  18.022686   8.167039   0.551063   \n",
       "3                1  2.799270  22.192143  ...  16.521526   8.864549   2.832348   \n",
       "4                1  1.999157  21.850063  ...  19.460441  12.858502   1.427607   \n",
       "\n",
       "         nss        sfs  Year  Month  Date  Day of Week  Hour  \n",
       "0  13.845911  11.952866  2009      6    15            0    17  \n",
       "1   0.737101   2.654702  2010      1     5            1    16  \n",
       "2   6.173413   4.742035  2011      8    18            3     0  \n",
       "3   3.190886   1.608332  2012      4    21            5     4  \n",
       "4   7.355035   5.688753  2010      3     9            1     7  \n",
       "\n",
       "[5 rows x 24 columns]"
      ]
     },
     "execution_count": 4,
     "metadata": {},
     "output_type": "execute_result"
    }
   ],
   "source": [
    "df.head()"
   ]
  },
  {
   "cell_type": "code",
   "execution_count": 5,
   "metadata": {},
   "outputs": [
    {
     "data": {
      "text/plain": [
       "(4893757, 24)"
      ]
     },
     "execution_count": 5,
     "metadata": {},
     "output_type": "execute_result"
    }
   ],
   "source": [
    "df.shape"
   ]
  },
  {
   "cell_type": "code",
   "execution_count": 6,
   "metadata": {},
   "outputs": [
    {
     "name": "stdout",
     "output_type": "stream",
     "text": [
      "<class 'pandas.core.frame.DataFrame'>\n",
      "RangeIndex: 4893757 entries, 0 to 4893756\n",
      "Data columns (total 24 columns):\n",
      " #   Column             Dtype  \n",
      "---  ------             -----  \n",
      " 0   key                object \n",
      " 1   fare_amount        float64\n",
      " 2   pickup_datetime    object \n",
      " 3   pickup_longitude   float64\n",
      " 4   pickup_latitude    float64\n",
      " 5   dropoff_longitude  float64\n",
      " 6   dropoff_latitude   float64\n",
      " 7   passenger_count    int64  \n",
      " 8   dis                float64\n",
      " 9   pick_jfk           float64\n",
      " 10  pick_lga           float64\n",
      " 11  pick_ewr           float64\n",
      " 12  drop_jfk           float64\n",
      " 13  drop_lga           float64\n",
      " 14  drop_ewr           float64\n",
      " 15  lib                float64\n",
      " 16  nyc                float64\n",
      " 17  nss                float64\n",
      " 18  sfs                float64\n",
      " 19  Year               int64  \n",
      " 20  Month              int64  \n",
      " 21  Date               int64  \n",
      " 22  Day of Week        int64  \n",
      " 23  Hour               int64  \n",
      "dtypes: float64(16), int64(6), object(2)\n",
      "memory usage: 896.1+ MB\n"
     ]
    }
   ],
   "source": [
    "df.info()"
   ]
  },
  {
   "cell_type": "code",
   "execution_count": 7,
   "metadata": {},
   "outputs": [
    {
     "data": {
      "text/plain": [
       "key                  0\n",
       "fare_amount          0\n",
       "pickup_datetime      0\n",
       "pickup_longitude     0\n",
       "pickup_latitude      0\n",
       "dropoff_longitude    0\n",
       "dropoff_latitude     0\n",
       "passenger_count      0\n",
       "dis                  0\n",
       "pick_jfk             0\n",
       "pick_lga             0\n",
       "pick_ewr             0\n",
       "drop_jfk             0\n",
       "drop_lga             0\n",
       "drop_ewr             0\n",
       "lib                  0\n",
       "nyc                  0\n",
       "nss                  0\n",
       "sfs                  0\n",
       "Year                 0\n",
       "Month                0\n",
       "Date                 0\n",
       "Day of Week          0\n",
       "Hour                 0\n",
       "dtype: int64"
      ]
     },
     "execution_count": 7,
     "metadata": {},
     "output_type": "execute_result"
    }
   ],
   "source": [
    "df.isnull().sum()"
   ]
  },
  {
   "cell_type": "markdown",
   "metadata": {},
   "source": [
    "# EDA on Training DataSet"
   ]
  },
  {
   "cell_type": "raw",
   "metadata": {},
   "source": [
    "df.dropna(inplace=True)"
   ]
  },
  {
   "cell_type": "raw",
   "metadata": {},
   "source": [
    "df['pickup_latitude'] = df['pickup_latitude'][(df['pickup_latitude'] >= 40) & (df['pickup_latitude'] <= 42)]\n",
    "df['pickup_longitude'] = df['pickup_longitude'][(df['pickup_longitude'] <= -72) & (df['pickup_longitude'] >= -75)]\n",
    "df['dropoff_latitude'] = df['dropoff_latitude'][(df['dropoff_latitude'] >= 40) & (df['dropoff_latitude'] <= 42)]\n",
    "df['dropoff_longitude'] = df['dropoff_longitude'][(df['dropoff_longitude'] <= -72) & (df['dropoff_longitude'] >= -75)]"
   ]
  },
  {
   "cell_type": "raw",
   "metadata": {},
   "source": [
    "df['pickup_longitude']= df['pickup_longitude'].replace({0:np.nan})\n",
    "df['pickup_latitude']= df['pickup_latitude'].replace({0:np.nan})\n",
    "df['dropoff_longitude']= df['dropoff_longitude'].replace({0:np.nan})\n",
    "df['dropoff_latitude']= df['dropoff_latitude'].replace({0:np.nan})"
   ]
  },
  {
   "cell_type": "raw",
   "metadata": {},
   "source": [
    "df.isnull().sum()"
   ]
  },
  {
   "cell_type": "raw",
   "metadata": {},
   "source": [
    "df.dropna(inplace=True)"
   ]
  },
  {
   "cell_type": "raw",
   "metadata": {},
   "source": [
    "df.describe()"
   ]
  },
  {
   "cell_type": "raw",
   "metadata": {},
   "source": [
    "def sphere_dist(pick_lat, pick_lon, drop_lat, drop_lon):\n",
    "    R_earth = 6371 # Earth radius (in km)\n",
    "    # Convert degrees to radians\n",
    "    pick_lat, pick_lon, drop_lat, drop_lon = map(np.radians, [pick_lat, pick_lon,\n",
    "                                                              drop_lat, drop_lon])\n",
    "    # Compute distances along lat, lon dimensions\n",
    "    dlat = drop_lat - pick_lat\n",
    "    dlon = drop_lon - pick_lon\n",
    "    \n",
    "    # Compute haversine distance\n",
    "    a = np.sin(dlat/2.0)**2 + np.cos(pick_lat) * np.cos(drop_lat) * np.sin(dlon/2.0)**2\n",
    "    return 2 * R_earth * np.arcsin(np.sqrt(a))"
   ]
  },
  {
   "cell_type": "raw",
   "metadata": {},
   "source": [
    "init_time = time.time()\n",
    "df['dis'] = sphere_dist( df['pickup_latitude'], df['pickup_longitude'],df['dropoff_latitude'], df['dropoff_longitude'])\n",
    "df['pick_jfk'] = sphere_dist(40.6413, -73.7781, df['dropoff_latitude'], df['dropoff_longitude'])\n",
    "df['pick_lga'] = sphere_dist(40.7769, -73.8740, df['dropoff_latitude'], df['dropoff_longitude'])\n",
    "df['pick_ewr'] = sphere_dist(40.6895, -74.1745, df['dropoff_latitude'], df['dropoff_longitude'])\n",
    "df['drop_jfk'] = sphere_dist(df['pickup_latitude'], df['pickup_longitude'], 40.6413, -73.7781)\n",
    "df['drop_lga'] = sphere_dist(df['pickup_latitude'], df['pickup_longitude'], 40.7769, -73.8740)\n",
    "df['drop_ewr'] = sphere_dist(df['pickup_latitude'], df['pickup_longitude'], 40.6895, -74.1745)\n",
    "df['lib'] = sphere_dist(40.6892, -74.0445, df['dropoff_latitude'], df['dropoff_longitude'])\n",
    "df['nyc'] = sphere_dist(df['pickup_latitude'], df['pickup_longitude'], 40.7577, -73.9782)\n",
    "df['nss'] = sphere_dist(df['pickup_latitude'], df['pickup_longitude'], 40.7091, -74.0078)\n",
    "df['sfs'] = sphere_dist(df['pickup_latitude'], df['pickup_longitude'], 40.7187, -73.9861)\n",
    "fin_time = time.time()\n",
    "print ('Time taken for exec : ',fin_time-init_time)"
   ]
  },
  {
   "cell_type": "raw",
   "metadata": {},
   "source": [
    "df.describe()"
   ]
  },
  {
   "cell_type": "raw",
   "metadata": {},
   "source": [
    "df['pickup_datetime'] = pd.to_datetime(df['pickup_datetime'])"
   ]
  },
  {
   "cell_type": "raw",
   "metadata": {},
   "source": [
    "df['Year'] = df['pickup_datetime'].dt.year\n",
    "df['Month'] = df['pickup_datetime'].dt.month\n",
    "df['Date'] = df['pickup_datetime'].dt.day\n",
    "df['Day of Week'] = df['pickup_datetime'].dt.dayofweek\n",
    "df['Hour'] = df['pickup_datetime'].dt.hour"
   ]
  },
  {
   "cell_type": "raw",
   "metadata": {},
   "source": [
    "df.describe()"
   ]
  },
  {
   "cell_type": "raw",
   "metadata": {},
   "source": [
    "df[(df['dis']==0)&(df['fare_amount']==0)]"
   ]
  },
  {
   "cell_type": "raw",
   "metadata": {},
   "source": [
    "df = df.drop(index = df[(df['dis']==0) & (df['fare_amount']==0)].index, axis=0)"
   ]
  },
  {
   "cell_type": "raw",
   "metadata": {},
   "source": [
    "df = df.drop(index= df[df['fare_amount']==0].index, axis=0)"
   ]
  },
  {
   "cell_type": "raw",
   "metadata": {},
   "source": [
    "df = df.drop(index= df[df['fare_amount'] < 2.5].index, axis=0)"
   ]
  },
  {
   "cell_type": "raw",
   "metadata": {},
   "source": [
    "df = df.drop(index= df[df['passenger_count'] >= 7].index, axis=0)"
   ]
  },
  {
   "cell_type": "raw",
   "metadata": {},
   "source": [
    "fare_100 = df[df.fare_amount > 100]\n",
    "fare_100.shape"
   ]
  },
  {
   "cell_type": "raw",
   "metadata": {},
   "source": [
    "fare_100[fare_100['dis'] <1].shape"
   ]
  },
  {
   "cell_type": "raw",
   "metadata": {},
   "source": [
    "df = df.drop(index= df[(df['dis'] <1) & (df['fare_amount'] > 100)].index, axis=0)"
   ]
  },
  {
   "cell_type": "raw",
   "metadata": {},
   "source": [
    "df.describe()"
   ]
  },
  {
   "cell_type": "raw",
   "metadata": {},
   "source": [
    "df.drop(df[df['fare_amount'] > 500].index, axis=0, inplace = True)"
   ]
  },
  {
   "cell_type": "raw",
   "metadata": {},
   "source": [
    "df.describe()"
   ]
  },
  {
   "cell_type": "raw",
   "metadata": {},
   "source": [
    "train_fare1 = pd.DataFrame()\n",
    "train_fare1 = df\n",
    "train_fare1.to_csv('train_fare1.csv', header=True, index=False)"
   ]
  },
  {
   "cell_type": "markdown",
   "metadata": {},
   "source": [
    "#### ------------------------------------------------------------------------------------------------------------------------------------------------------------------------------------------------------------------"
   ]
  },
  {
   "cell_type": "code",
   "execution_count": 8,
   "metadata": {},
   "outputs": [
    {
     "data": {
      "text/html": [
       "<div>\n",
       "<style scoped>\n",
       "    .dataframe tbody tr th:only-of-type {\n",
       "        vertical-align: middle;\n",
       "    }\n",
       "\n",
       "    .dataframe tbody tr th {\n",
       "        vertical-align: top;\n",
       "    }\n",
       "\n",
       "    .dataframe thead th {\n",
       "        text-align: right;\n",
       "    }\n",
       "</style>\n",
       "<table border=\"1\" class=\"dataframe\">\n",
       "  <thead>\n",
       "    <tr style=\"text-align: right;\">\n",
       "      <th></th>\n",
       "      <th>fare_amount</th>\n",
       "      <th>pickup_longitude</th>\n",
       "      <th>pickup_latitude</th>\n",
       "      <th>dropoff_longitude</th>\n",
       "      <th>dropoff_latitude</th>\n",
       "      <th>passenger_count</th>\n",
       "      <th>dis</th>\n",
       "      <th>pick_jfk</th>\n",
       "      <th>pick_lga</th>\n",
       "      <th>pick_ewr</th>\n",
       "      <th>...</th>\n",
       "      <th>drop_ewr</th>\n",
       "      <th>lib</th>\n",
       "      <th>nyc</th>\n",
       "      <th>nss</th>\n",
       "      <th>sfs</th>\n",
       "      <th>Year</th>\n",
       "      <th>Month</th>\n",
       "      <th>Date</th>\n",
       "      <th>Day of Week</th>\n",
       "      <th>Hour</th>\n",
       "    </tr>\n",
       "  </thead>\n",
       "  <tbody>\n",
       "    <tr>\n",
       "      <th>count</th>\n",
       "      <td>4.893757e+06</td>\n",
       "      <td>4.893757e+06</td>\n",
       "      <td>4.893757e+06</td>\n",
       "      <td>4.893757e+06</td>\n",
       "      <td>4.893757e+06</td>\n",
       "      <td>4.893757e+06</td>\n",
       "      <td>4.893757e+06</td>\n",
       "      <td>4.893757e+06</td>\n",
       "      <td>4.893757e+06</td>\n",
       "      <td>4.893757e+06</td>\n",
       "      <td>...</td>\n",
       "      <td>4.893757e+06</td>\n",
       "      <td>4.893757e+06</td>\n",
       "      <td>4.893757e+06</td>\n",
       "      <td>4.893757e+06</td>\n",
       "      <td>4.893757e+06</td>\n",
       "      <td>4.893757e+06</td>\n",
       "      <td>4.893757e+06</td>\n",
       "      <td>4.893757e+06</td>\n",
       "      <td>4.893757e+06</td>\n",
       "      <td>4.893757e+06</td>\n",
       "    </tr>\n",
       "    <tr>\n",
       "      <th>mean</th>\n",
       "      <td>1.130765e+01</td>\n",
       "      <td>-7.397518e+01</td>\n",
       "      <td>4.075104e+01</td>\n",
       "      <td>-7.397433e+01</td>\n",
       "      <td>4.075141e+01</td>\n",
       "      <td>1.684524e+00</td>\n",
       "      <td>3.329680e+00</td>\n",
       "      <td>2.092487e+01</td>\n",
       "      <td>9.690042e+00</td>\n",
       "      <td>1.848865e+01</td>\n",
       "      <td>...</td>\n",
       "      <td>1.835533e+01</td>\n",
       "      <td>9.543668e+00</td>\n",
       "      <td>3.045107e+00</td>\n",
       "      <td>5.966981e+00</td>\n",
       "      <td>4.698996e+00</td>\n",
       "      <td>2.011736e+03</td>\n",
       "      <td>6.268651e+00</td>\n",
       "      <td>1.571701e+01</td>\n",
       "      <td>3.041605e+00</td>\n",
       "      <td>1.351137e+01</td>\n",
       "    </tr>\n",
       "    <tr>\n",
       "      <th>std</th>\n",
       "      <td>9.574454e+00</td>\n",
       "      <td>3.895083e-02</td>\n",
       "      <td>2.997922e-02</td>\n",
       "      <td>3.810609e-02</td>\n",
       "      <td>3.314532e-02</td>\n",
       "      <td>1.307684e+00</td>\n",
       "      <td>3.793898e+00</td>\n",
       "      <td>3.104879e+00</td>\n",
       "      <td>3.068253e+00</td>\n",
       "      <td>3.743363e+00</td>\n",
       "      <td>...</td>\n",
       "      <td>3.734315e+00</td>\n",
       "      <td>3.952870e+00</td>\n",
       "      <td>3.634363e+00</td>\n",
       "      <td>3.946078e+00</td>\n",
       "      <td>3.683681e+00</td>\n",
       "      <td>1.862968e+00</td>\n",
       "      <td>3.436545e+00</td>\n",
       "      <td>8.685090e+00</td>\n",
       "      <td>1.949380e+00</td>\n",
       "      <td>6.514874e+00</td>\n",
       "    </tr>\n",
       "    <tr>\n",
       "      <th>min</th>\n",
       "      <td>2.500000e+00</td>\n",
       "      <td>-7.498856e+01</td>\n",
       "      <td>4.003383e+01</td>\n",
       "      <td>-7.499828e+01</td>\n",
       "      <td>4.000565e+01</td>\n",
       "      <td>0.000000e+00</td>\n",
       "      <td>0.000000e+00</td>\n",
       "      <td>1.475508e-01</td>\n",
       "      <td>3.368652e-02</td>\n",
       "      <td>1.349275e-01</td>\n",
       "      <td>...</td>\n",
       "      <td>3.618007e-02</td>\n",
       "      <td>4.898866e-02</td>\n",
       "      <td>3.366094e-04</td>\n",
       "      <td>5.339799e-03</td>\n",
       "      <td>1.041811e-02</td>\n",
       "      <td>2.009000e+03</td>\n",
       "      <td>1.000000e+00</td>\n",
       "      <td>1.000000e+00</td>\n",
       "      <td>0.000000e+00</td>\n",
       "      <td>0.000000e+00</td>\n",
       "    </tr>\n",
       "    <tr>\n",
       "      <th>25%</th>\n",
       "      <td>6.000000e+00</td>\n",
       "      <td>-7.399227e+01</td>\n",
       "      <td>4.073655e+01</td>\n",
       "      <td>-7.399158e+01</td>\n",
       "      <td>4.073560e+01</td>\n",
       "      <td>1.000000e+00</td>\n",
       "      <td>1.253349e+00</td>\n",
       "      <td>2.053507e+01</td>\n",
       "      <td>8.322832e+00</td>\n",
       "      <td>1.648999e+01</td>\n",
       "      <td>...</td>\n",
       "      <td>1.636911e+01</td>\n",
       "      <td>7.164995e+00</td>\n",
       "      <td>1.236304e+00</td>\n",
       "      <td>3.615365e+00</td>\n",
       "      <td>2.580605e+00</td>\n",
       "      <td>2.010000e+03</td>\n",
       "      <td>3.000000e+00</td>\n",
       "      <td>8.000000e+00</td>\n",
       "      <td>1.000000e+00</td>\n",
       "      <td>9.000000e+00</td>\n",
       "    </tr>\n",
       "    <tr>\n",
       "      <th>50%</th>\n",
       "      <td>8.500000e+00</td>\n",
       "      <td>-7.398210e+01</td>\n",
       "      <td>4.075335e+01</td>\n",
       "      <td>-7.398061e+01</td>\n",
       "      <td>4.075386e+01</td>\n",
       "      <td>1.000000e+00</td>\n",
       "      <td>2.152117e+00</td>\n",
       "      <td>2.118912e+01</td>\n",
       "      <td>9.524412e+00</td>\n",
       "      <td>1.797386e+01</td>\n",
       "      <td>...</td>\n",
       "      <td>1.782185e+01</td>\n",
       "      <td>9.129285e+00</td>\n",
       "      <td>2.331827e+00</td>\n",
       "      <td>5.601878e+00</td>\n",
       "      <td>4.181293e+00</td>\n",
       "      <td>2.012000e+03</td>\n",
       "      <td>6.000000e+00</td>\n",
       "      <td>1.600000e+01</td>\n",
       "      <td>3.000000e+00</td>\n",
       "      <td>1.400000e+01</td>\n",
       "    </tr>\n",
       "    <tr>\n",
       "      <th>75%</th>\n",
       "      <td>1.250000e+01</td>\n",
       "      <td>-7.396833e+01</td>\n",
       "      <td>4.076754e+01</td>\n",
       "      <td>-7.396536e+01</td>\n",
       "      <td>4.076840e+01</td>\n",
       "      <td>2.000000e+00</td>\n",
       "      <td>3.909590e+00</td>\n",
       "      <td>2.191394e+01</td>\n",
       "      <td>1.099023e+01</td>\n",
       "      <td>1.980174e+01</td>\n",
       "      <td>...</td>\n",
       "      <td>1.946658e+01</td>\n",
       "      <td>1.130821e+01</td>\n",
       "      <td>3.643930e+00</td>\n",
       "      <td>7.583171e+00</td>\n",
       "      <td>5.968077e+00</td>\n",
       "      <td>2.013000e+03</td>\n",
       "      <td>9.000000e+00</td>\n",
       "      <td>2.300000e+01</td>\n",
       "      <td>5.000000e+00</td>\n",
       "      <td>1.900000e+01</td>\n",
       "    </tr>\n",
       "    <tr>\n",
       "      <th>max</th>\n",
       "      <td>4.950000e+02</td>\n",
       "      <td>-7.206320e+01</td>\n",
       "      <td>4.192279e+01</td>\n",
       "      <td>-7.206700e+01</td>\n",
       "      <td>4.199811e+01</td>\n",
       "      <td>6.000000e+00</td>\n",
       "      <td>1.616862e+02</td>\n",
       "      <td>1.783438e+02</td>\n",
       "      <td>1.765042e+02</td>\n",
       "      <td>2.032123e+02</td>\n",
       "      <td>...</td>\n",
       "      <td>1.794818e+02</td>\n",
       "      <td>1.938528e+02</td>\n",
       "      <td>1.616659e+02</td>\n",
       "      <td>1.674743e+02</td>\n",
       "      <td>1.655208e+02</td>\n",
       "      <td>2.015000e+03</td>\n",
       "      <td>1.200000e+01</td>\n",
       "      <td>3.100000e+01</td>\n",
       "      <td>6.000000e+00</td>\n",
       "      <td>2.300000e+01</td>\n",
       "    </tr>\n",
       "  </tbody>\n",
       "</table>\n",
       "<p>8 rows × 22 columns</p>\n",
       "</div>"
      ],
      "text/plain": [
       "        fare_amount  pickup_longitude  pickup_latitude  dropoff_longitude  \\\n",
       "count  4.893757e+06      4.893757e+06     4.893757e+06       4.893757e+06   \n",
       "mean   1.130765e+01     -7.397518e+01     4.075104e+01      -7.397433e+01   \n",
       "std    9.574454e+00      3.895083e-02     2.997922e-02       3.810609e-02   \n",
       "min    2.500000e+00     -7.498856e+01     4.003383e+01      -7.499828e+01   \n",
       "25%    6.000000e+00     -7.399227e+01     4.073655e+01      -7.399158e+01   \n",
       "50%    8.500000e+00     -7.398210e+01     4.075335e+01      -7.398061e+01   \n",
       "75%    1.250000e+01     -7.396833e+01     4.076754e+01      -7.396536e+01   \n",
       "max    4.950000e+02     -7.206320e+01     4.192279e+01      -7.206700e+01   \n",
       "\n",
       "       dropoff_latitude  passenger_count           dis      pick_jfk  \\\n",
       "count      4.893757e+06     4.893757e+06  4.893757e+06  4.893757e+06   \n",
       "mean       4.075141e+01     1.684524e+00  3.329680e+00  2.092487e+01   \n",
       "std        3.314532e-02     1.307684e+00  3.793898e+00  3.104879e+00   \n",
       "min        4.000565e+01     0.000000e+00  0.000000e+00  1.475508e-01   \n",
       "25%        4.073560e+01     1.000000e+00  1.253349e+00  2.053507e+01   \n",
       "50%        4.075386e+01     1.000000e+00  2.152117e+00  2.118912e+01   \n",
       "75%        4.076840e+01     2.000000e+00  3.909590e+00  2.191394e+01   \n",
       "max        4.199811e+01     6.000000e+00  1.616862e+02  1.783438e+02   \n",
       "\n",
       "           pick_lga      pick_ewr  ...      drop_ewr           lib  \\\n",
       "count  4.893757e+06  4.893757e+06  ...  4.893757e+06  4.893757e+06   \n",
       "mean   9.690042e+00  1.848865e+01  ...  1.835533e+01  9.543668e+00   \n",
       "std    3.068253e+00  3.743363e+00  ...  3.734315e+00  3.952870e+00   \n",
       "min    3.368652e-02  1.349275e-01  ...  3.618007e-02  4.898866e-02   \n",
       "25%    8.322832e+00  1.648999e+01  ...  1.636911e+01  7.164995e+00   \n",
       "50%    9.524412e+00  1.797386e+01  ...  1.782185e+01  9.129285e+00   \n",
       "75%    1.099023e+01  1.980174e+01  ...  1.946658e+01  1.130821e+01   \n",
       "max    1.765042e+02  2.032123e+02  ...  1.794818e+02  1.938528e+02   \n",
       "\n",
       "                nyc           nss           sfs          Year         Month  \\\n",
       "count  4.893757e+06  4.893757e+06  4.893757e+06  4.893757e+06  4.893757e+06   \n",
       "mean   3.045107e+00  5.966981e+00  4.698996e+00  2.011736e+03  6.268651e+00   \n",
       "std    3.634363e+00  3.946078e+00  3.683681e+00  1.862968e+00  3.436545e+00   \n",
       "min    3.366094e-04  5.339799e-03  1.041811e-02  2.009000e+03  1.000000e+00   \n",
       "25%    1.236304e+00  3.615365e+00  2.580605e+00  2.010000e+03  3.000000e+00   \n",
       "50%    2.331827e+00  5.601878e+00  4.181293e+00  2.012000e+03  6.000000e+00   \n",
       "75%    3.643930e+00  7.583171e+00  5.968077e+00  2.013000e+03  9.000000e+00   \n",
       "max    1.616659e+02  1.674743e+02  1.655208e+02  2.015000e+03  1.200000e+01   \n",
       "\n",
       "               Date   Day of Week          Hour  \n",
       "count  4.893757e+06  4.893757e+06  4.893757e+06  \n",
       "mean   1.571701e+01  3.041605e+00  1.351137e+01  \n",
       "std    8.685090e+00  1.949380e+00  6.514874e+00  \n",
       "min    1.000000e+00  0.000000e+00  0.000000e+00  \n",
       "25%    8.000000e+00  1.000000e+00  9.000000e+00  \n",
       "50%    1.600000e+01  3.000000e+00  1.400000e+01  \n",
       "75%    2.300000e+01  5.000000e+00  1.900000e+01  \n",
       "max    3.100000e+01  6.000000e+00  2.300000e+01  \n",
       "\n",
       "[8 rows x 22 columns]"
      ]
     },
     "execution_count": 8,
     "metadata": {},
     "output_type": "execute_result"
    }
   ],
   "source": [
    "df.describe()"
   ]
  },
  {
   "cell_type": "markdown",
   "metadata": {},
   "source": [
    "# Train Test Split"
   ]
  },
  {
   "cell_type": "code",
   "execution_count": 10,
   "metadata": {},
   "outputs": [],
   "source": [
    "x, y = df.drop(['fare_amount','key','pickup_datetime','pickup_longitude','pickup_latitude','dropoff_longitude','dropoff_latitude'], axis=1), df['fare_amount']"
   ]
  },
  {
   "cell_type": "code",
   "execution_count": 11,
   "metadata": {},
   "outputs": [],
   "source": [
    "x_train, x_test, y_train, y_test = train_test_split(x, y, test_size=0.3, random_state=101)"
   ]
  },
  {
   "cell_type": "markdown",
   "metadata": {},
   "source": [
    "# Model Training"
   ]
  },
  {
   "cell_type": "markdown",
   "metadata": {},
   "source": [
    "### Linear Regression"
   ]
  },
  {
   "cell_type": "code",
   "execution_count": 12,
   "metadata": {},
   "outputs": [],
   "source": [
    "lr = LinearRegression()"
   ]
  },
  {
   "cell_type": "code",
   "execution_count": 13,
   "metadata": {},
   "outputs": [
    {
     "data": {
      "text/plain": [
       "LinearRegression()"
      ]
     },
     "execution_count": 13,
     "metadata": {},
     "output_type": "execute_result"
    }
   ],
   "source": [
    "lr.fit(x_train, y_train)"
   ]
  },
  {
   "cell_type": "code",
   "execution_count": 14,
   "metadata": {},
   "outputs": [],
   "source": [
    "pred = lr.predict(x_test)"
   ]
  },
  {
   "cell_type": "raw",
   "metadata": {
    "scrolled": false
   },
   "source": [
    "fig = px.scatter(x=y_test, y=pred)\n",
    "fig.show()"
   ]
  },
  {
   "cell_type": "code",
   "execution_count": 15,
   "metadata": {},
   "outputs": [
    {
     "name": "stdout",
     "output_type": "stream",
     "text": [
      "Root Mean Squared Error : 4.915105401136573\n"
     ]
    }
   ],
   "source": [
    "print('Root Mean Squared Error :',np.sqrt(skm.mean_squared_error(y_test,pred)))"
   ]
  },
  {
   "cell_type": "markdown",
   "metadata": {},
   "source": [
    "### Decision tree"
   ]
  },
  {
   "cell_type": "code",
   "execution_count": 16,
   "metadata": {},
   "outputs": [],
   "source": [
    "dt = DecisionTreeRegressor(max_depth = 10)"
   ]
  },
  {
   "cell_type": "code",
   "execution_count": 17,
   "metadata": {},
   "outputs": [
    {
     "data": {
      "text/plain": [
       "DecisionTreeRegressor(max_depth=10)"
      ]
     },
     "execution_count": 17,
     "metadata": {},
     "output_type": "execute_result"
    }
   ],
   "source": [
    "dt.fit(x_train, y_train)"
   ]
  },
  {
   "cell_type": "code",
   "execution_count": 18,
   "metadata": {},
   "outputs": [],
   "source": [
    "dt_pred = dt.predict(x_test)"
   ]
  },
  {
   "cell_type": "code",
   "execution_count": 19,
   "metadata": {},
   "outputs": [
    {
     "name": "stdout",
     "output_type": "stream",
     "text": [
      "RMSE =  3.8946610159744623\n"
     ]
    }
   ],
   "source": [
    "print('RMSE = ',np.sqrt(skm.mean_squared_error(y_test,dt_pred)))"
   ]
  },
  {
   "cell_type": "markdown",
   "metadata": {},
   "source": [
    "### Random Forest"
   ]
  },
  {
   "cell_type": "code",
   "execution_count": 20,
   "metadata": {},
   "outputs": [],
   "source": [
    "rf = RandomForestRegressor(n_estimators = 20, min_samples_leaf = 60)"
   ]
  },
  {
   "cell_type": "code",
   "execution_count": 21,
   "metadata": {},
   "outputs": [
    {
     "data": {
      "text/plain": [
       "RandomForestRegressor(min_samples_leaf=60, n_estimators=20)"
      ]
     },
     "execution_count": 21,
     "metadata": {},
     "output_type": "execute_result"
    }
   ],
   "source": [
    "rf.fit(x_train, y_train)"
   ]
  },
  {
   "cell_type": "code",
   "execution_count": 22,
   "metadata": {},
   "outputs": [],
   "source": [
    "rf_pred = rf.predict(x_test)"
   ]
  },
  {
   "cell_type": "code",
   "execution_count": 23,
   "metadata": {},
   "outputs": [
    {
     "name": "stdout",
     "output_type": "stream",
     "text": [
      "RMSE =  3.602766740615941\n"
     ]
    }
   ],
   "source": [
    "print('RMSE = ',np.sqrt(skm.mean_squared_error(y_test,rf_pred)))"
   ]
  },
  {
   "cell_type": "markdown",
   "metadata": {},
   "source": [
    "### XG Boost"
   ]
  },
  {
   "cell_type": "code",
   "execution_count": 24,
   "metadata": {},
   "outputs": [
    {
     "name": "stdout",
     "output_type": "stream",
     "text": [
      "[23:16:16] WARNING: C:\\Users\\Administrator\\workspace\\xgboost-win64_release_1.1.0\\src\\learner.cc:480: \n",
      "Parameters: { n_estimators, silent } might not be used.\n",
      "\n",
      "  This may not be accurate due to some parameters are only used in language bindings but\n",
      "  passed down to XGBoost core.  Or some parameters are not used but slip through this\n",
      "  verification. Please open an issue if you find above cases.\n",
      "\n",
      "\n",
      "[0]\ttrain-rmse:13.76005\tvalid-rmse:13.80637\n",
      "Multiple eval metrics have been passed: 'valid-rmse' will be used for early stopping.\n",
      "\n",
      "Will train until valid-rmse hasn't improved in 100 rounds.\n",
      "[50]\ttrain-rmse:3.58479\tvalid-rmse:3.78789\n",
      "[100]\ttrain-rmse:3.21816\tvalid-rmse:3.50426\n",
      "[150]\ttrain-rmse:3.10981\tvalid-rmse:3.45189\n",
      "[200]\ttrain-rmse:3.04071\tvalid-rmse:3.42468\n",
      "[250]\ttrain-rmse:2.99464\tvalid-rmse:3.40829\n",
      "[300]\ttrain-rmse:2.96081\tvalid-rmse:3.39741\n",
      "[350]\ttrain-rmse:2.92899\tvalid-rmse:3.38735\n",
      "[400]\ttrain-rmse:2.90192\tvalid-rmse:3.38153\n",
      "[450]\ttrain-rmse:2.88167\tvalid-rmse:3.37776\n",
      "[500]\ttrain-rmse:2.85620\tvalid-rmse:3.37289\n",
      "[550]\ttrain-rmse:2.83745\tvalid-rmse:3.37032\n",
      "[600]\ttrain-rmse:2.81731\tvalid-rmse:3.36819\n",
      "[650]\ttrain-rmse:2.80139\tvalid-rmse:3.36672\n",
      "[699]\ttrain-rmse:2.78469\tvalid-rmse:3.36531\n"
     ]
    }
   ],
   "source": [
    "dtrain = xgb.DMatrix(x_train, label=y_train)\n",
    "dvalid = xgb.DMatrix(x_test, label=y_test)\n",
    "watchlist = [(dtrain, 'train'), (dvalid, 'valid')]\n",
    "\n",
    "xgb_params = {\n",
    "    'min_child_weight': 1, \n",
    "    'learning_rate': 0.05, \n",
    "    'colsample_bytree': 0.7, \n",
    "    'max_depth': 10,\n",
    "    'subsample': 0.7,\n",
    "    'n_estimators': 5000,\n",
    "    'n_jobs': -1, \n",
    "    'booster' : 'gbtree', \n",
    "    'silent': 1,\n",
    "    'eval_metric': 'rmse'}\n",
    "\n",
    "model = xgb.train(xgb_params, dtrain, 700, watchlist, early_stopping_rounds=100, maximize=False, verbose_eval=50)"
   ]
  },
  {
   "cell_type": "markdown",
   "metadata": {},
   "source": [
    "### Keras"
   ]
  },
  {
   "cell_type": "raw",
   "metadata": {},
   "source": [
    "n_cols = x_train.shape[1]"
   ]
  },
  {
   "cell_type": "raw",
   "metadata": {},
   "source": [
    "n_cols"
   ]
  },
  {
   "cell_type": "raw",
   "metadata": {},
   "source": [
    "# define regression model\n",
    "def regression_model():\n",
    "    # create model\n",
    "    model = Sequential()\n",
    "    model.add(Dense(28, activation='relu', input_shape=(n_cols,)))\n",
    "    model.add(Dense(28, activation='relu'))\n",
    "    model.add(Dense(28, activation='relu'))\n",
    "    model.add(Dense(1))\n",
    "    \n",
    "    # compile model\n",
    "    model.compile(optimizer='adam', loss='mean_squared_error')\n",
    "    return model"
   ]
  },
  {
   "cell_type": "raw",
   "metadata": {},
   "source": [
    "x_train = np.asarray(x_train).astype('float32')\n",
    "y_train = np.asarray(y_train).astype('float32')"
   ]
  },
  {
   "cell_type": "raw",
   "metadata": {},
   "source": [
    "model = regression_model()"
   ]
  },
  {
   "cell_type": "raw",
   "metadata": {
    "scrolled": true
   },
   "source": [
    "model.fit(x_train, y_train, validation_split=0.3, epochs=30, verbose=2)"
   ]
  },
  {
   "cell_type": "markdown",
   "metadata": {},
   "source": [
    "#### ------------------------------------------------------------------------------------------------------------------------------------------------------------------------------------------------------------------"
   ]
  },
  {
   "cell_type": "markdown",
   "metadata": {},
   "source": [
    "# EDA On Test Data Set"
   ]
  },
  {
   "cell_type": "code",
   "execution_count": 37,
   "metadata": {},
   "outputs": [],
   "source": [
    "test_df = pd.read_csv('test.csv')"
   ]
  },
  {
   "cell_type": "code",
   "execution_count": 38,
   "metadata": {},
   "outputs": [
    {
     "data": {
      "text/html": [
       "<div>\n",
       "<style scoped>\n",
       "    .dataframe tbody tr th:only-of-type {\n",
       "        vertical-align: middle;\n",
       "    }\n",
       "\n",
       "    .dataframe tbody tr th {\n",
       "        vertical-align: top;\n",
       "    }\n",
       "\n",
       "    .dataframe thead th {\n",
       "        text-align: right;\n",
       "    }\n",
       "</style>\n",
       "<table border=\"1\" class=\"dataframe\">\n",
       "  <thead>\n",
       "    <tr style=\"text-align: right;\">\n",
       "      <th></th>\n",
       "      <th>key</th>\n",
       "      <th>pickup_datetime</th>\n",
       "      <th>pickup_longitude</th>\n",
       "      <th>pickup_latitude</th>\n",
       "      <th>dropoff_longitude</th>\n",
       "      <th>dropoff_latitude</th>\n",
       "      <th>passenger_count</th>\n",
       "    </tr>\n",
       "  </thead>\n",
       "  <tbody>\n",
       "    <tr>\n",
       "      <th>0</th>\n",
       "      <td>2015-01-27 13:08:24.0000002</td>\n",
       "      <td>2015-01-27 13:08:24 UTC</td>\n",
       "      <td>-73.973320</td>\n",
       "      <td>40.763805</td>\n",
       "      <td>-73.981430</td>\n",
       "      <td>40.743835</td>\n",
       "      <td>1</td>\n",
       "    </tr>\n",
       "    <tr>\n",
       "      <th>1</th>\n",
       "      <td>2015-01-27 13:08:24.0000003</td>\n",
       "      <td>2015-01-27 13:08:24 UTC</td>\n",
       "      <td>-73.986862</td>\n",
       "      <td>40.719383</td>\n",
       "      <td>-73.998886</td>\n",
       "      <td>40.739201</td>\n",
       "      <td>1</td>\n",
       "    </tr>\n",
       "    <tr>\n",
       "      <th>2</th>\n",
       "      <td>2011-10-08 11:53:44.0000002</td>\n",
       "      <td>2011-10-08 11:53:44 UTC</td>\n",
       "      <td>-73.982524</td>\n",
       "      <td>40.751260</td>\n",
       "      <td>-73.979654</td>\n",
       "      <td>40.746139</td>\n",
       "      <td>1</td>\n",
       "    </tr>\n",
       "    <tr>\n",
       "      <th>3</th>\n",
       "      <td>2012-12-01 21:12:12.0000002</td>\n",
       "      <td>2012-12-01 21:12:12 UTC</td>\n",
       "      <td>-73.981160</td>\n",
       "      <td>40.767807</td>\n",
       "      <td>-73.990448</td>\n",
       "      <td>40.751635</td>\n",
       "      <td>1</td>\n",
       "    </tr>\n",
       "    <tr>\n",
       "      <th>4</th>\n",
       "      <td>2012-12-01 21:12:12.0000003</td>\n",
       "      <td>2012-12-01 21:12:12 UTC</td>\n",
       "      <td>-73.966046</td>\n",
       "      <td>40.789775</td>\n",
       "      <td>-73.988565</td>\n",
       "      <td>40.744427</td>\n",
       "      <td>1</td>\n",
       "    </tr>\n",
       "  </tbody>\n",
       "</table>\n",
       "</div>"
      ],
      "text/plain": [
       "                           key          pickup_datetime  pickup_longitude  \\\n",
       "0  2015-01-27 13:08:24.0000002  2015-01-27 13:08:24 UTC        -73.973320   \n",
       "1  2015-01-27 13:08:24.0000003  2015-01-27 13:08:24 UTC        -73.986862   \n",
       "2  2011-10-08 11:53:44.0000002  2011-10-08 11:53:44 UTC        -73.982524   \n",
       "3  2012-12-01 21:12:12.0000002  2012-12-01 21:12:12 UTC        -73.981160   \n",
       "4  2012-12-01 21:12:12.0000003  2012-12-01 21:12:12 UTC        -73.966046   \n",
       "\n",
       "   pickup_latitude  dropoff_longitude  dropoff_latitude  passenger_count  \n",
       "0        40.763805         -73.981430         40.743835                1  \n",
       "1        40.719383         -73.998886         40.739201                1  \n",
       "2        40.751260         -73.979654         40.746139                1  \n",
       "3        40.767807         -73.990448         40.751635                1  \n",
       "4        40.789775         -73.988565         40.744427                1  "
      ]
     },
     "execution_count": 38,
     "metadata": {},
     "output_type": "execute_result"
    }
   ],
   "source": [
    "test_df.head()"
   ]
  },
  {
   "cell_type": "code",
   "execution_count": 39,
   "metadata": {},
   "outputs": [],
   "source": [
    "def sphere_dist(pick_lat, pick_lon, drop_lat, drop_lon):\n",
    "    R_earth = 6371 # Earth radius (in km)\n",
    "    # Convert degrees to radians\n",
    "    pick_lat, pick_lon, drop_lat, drop_lon = map(np.radians, [pick_lat, pick_lon,\n",
    "                                                              drop_lat, drop_lon])\n",
    "    # Compute distances along lat, lon dimensions\n",
    "    dlat = drop_lat - pick_lat\n",
    "    dlon = drop_lon - pick_lon\n",
    "    \n",
    "    # Compute haversine distance\n",
    "    a = np.sin(dlat/2.0)**2 + np.cos(pick_lat) * np.cos(drop_lat) * np.sin(dlon/2.0)**2\n",
    "    return 2 * R_earth * np.arcsin(np.sqrt(a))"
   ]
  },
  {
   "cell_type": "code",
   "execution_count": 40,
   "metadata": {},
   "outputs": [
    {
     "name": "stdout",
     "output_type": "stream",
     "text": [
      "Time taken for exec :  0.023019790649414062\n"
     ]
    }
   ],
   "source": [
    "init_time = time.time()\n",
    "test_df['dis'] = sphere_dist( test_df['pickup_latitude'], test_df['pickup_longitude'],test_df['dropoff_latitude'], test_df['dropoff_longitude'])\n",
    "test_df['pick_jfk'] = sphere_dist(40.6413, -73.7781, test_df['dropoff_latitude'], test_df['dropoff_longitude'])\n",
    "test_df['pick_lga'] = sphere_dist(40.7769, -73.8740, test_df['dropoff_latitude'], test_df['dropoff_longitude'])\n",
    "test_df['pick_ewr'] = sphere_dist(40.6895, -74.1745, test_df['dropoff_latitude'], test_df['dropoff_longitude'])\n",
    "test_df['drop_jfk'] = sphere_dist(test_df['pickup_latitude'], test_df['pickup_longitude'], 40.6413, -73.7781)\n",
    "test_df['drop_lga'] = sphere_dist(test_df['pickup_latitude'], test_df['pickup_longitude'], 40.7769, -73.8740)\n",
    "test_df['drop_ewr'] = sphere_dist(test_df['pickup_latitude'], test_df['pickup_longitude'], 40.6895, -74.1745)\n",
    "test_df['lib'] = sphere_dist(40.6892, -74.0445, test_df['dropoff_latitude'], test_df['dropoff_longitude'])\n",
    "test_df['nyc'] = sphere_dist(test_df['pickup_latitude'], test_df['pickup_longitude'], 40.7577, -73.9782)\n",
    "test_df['nss'] = sphere_dist(test_df['pickup_latitude'], test_df['pickup_longitude'], 40.7091, -74.0078)\n",
    "test_df['sfs'] = sphere_dist(test_df['pickup_latitude'], test_df['pickup_longitude'], 40.7187, -73.9861)\n",
    "fin_time = time.time()\n",
    "print ('Time taken for exec : ',fin_time-init_time)"
   ]
  },
  {
   "cell_type": "code",
   "execution_count": 41,
   "metadata": {},
   "outputs": [],
   "source": [
    "test_df['pickup_datetime'] = pd.to_datetime(test_df['pickup_datetime'])"
   ]
  },
  {
   "cell_type": "code",
   "execution_count": 42,
   "metadata": {},
   "outputs": [],
   "source": [
    "test_df['Year'] = test_df['pickup_datetime'].dt.year\n",
    "test_df['Month'] = test_df['pickup_datetime'].dt.month\n",
    "test_df['Date'] = test_df['pickup_datetime'].dt.day\n",
    "test_df['Day of Week'] = test_df['pickup_datetime'].dt.dayofweek\n",
    "test_df['Hour'] = test_df['pickup_datetime'].dt.hour"
   ]
  },
  {
   "cell_type": "markdown",
   "metadata": {},
   "source": [
    "#### ------------------------------------------------------------------------------------------------------------------------------------------------------------------------------------------------------------------"
   ]
  },
  {
   "cell_type": "markdown",
   "metadata": {},
   "source": [
    "# Predictions"
   ]
  },
  {
   "cell_type": "markdown",
   "metadata": {},
   "source": [
    "### XG Boost Prediction"
   ]
  },
  {
   "cell_type": "code",
   "execution_count": 43,
   "metadata": {},
   "outputs": [],
   "source": [
    "test = test_df.drop(['key','pickup_datetime','pickup_longitude','pickup_latitude','dropoff_longitude','dropoff_latitude'], axis=1)"
   ]
  },
  {
   "cell_type": "code",
   "execution_count": 44,
   "metadata": {},
   "outputs": [],
   "source": [
    "dtest = xgb.DMatrix(test)"
   ]
  },
  {
   "cell_type": "code",
   "execution_count": 45,
   "metadata": {
    "scrolled": false
   },
   "outputs": [],
   "source": [
    "test_preds = model.predict(dtest)"
   ]
  },
  {
   "cell_type": "code",
   "execution_count": 46,
   "metadata": {},
   "outputs": [
    {
     "data": {
      "text/plain": [
       "array([10.671461 , 10.93876  ,  4.3585606, ..., 53.835224 , 19.932985 ,\n",
       "        7.0817323], dtype=float32)"
      ]
     },
     "execution_count": 46,
     "metadata": {},
     "output_type": "execute_result"
    }
   ],
   "source": [
    "test_preds"
   ]
  },
  {
   "cell_type": "code",
   "execution_count": 47,
   "metadata": {},
   "outputs": [],
   "source": [
    "preds = test_preds\n",
    "filename = 'submissionxg.csv'#file name\n",
    "\n",
    "key = test_df.loc[:,'key']\n",
    "submission = pd.DataFrame(\n",
    "    {'key': key, 'fare_amount': preds},\n",
    "    columns = ['key', 'fare_amount'])\n",
    "submission.to_csv(filename, index = False)"
   ]
  },
  {
   "cell_type": "markdown",
   "metadata": {},
   "source": [
    "### Keras Prediction"
   ]
  },
  {
   "cell_type": "raw",
   "metadata": {},
   "source": [
    "test_predictors = test_df.drop(['key','pickup_datetime','pickup_longitude','pickup_latitude','dropoff_longitude','dropoff_latitude'], axis=1)"
   ]
  },
  {
   "cell_type": "raw",
   "metadata": {},
   "source": [
    "kfin_test_df = np.asarray(test_predictors).astype('float32')\n",
    "predictions = model.predict(kfin_test_df)"
   ]
  },
  {
   "cell_type": "raw",
   "metadata": {},
   "source": [
    "preds=[]\n",
    "for i in predictions :\n",
    "    preds.append(i[0])\n",
    "preds = pd.DataFrame(preds, columns = ['Fare Amount'])\n",
    "preds.fillna(0,inplace = True)\n",
    "preds = preds.loc[:,'Fare Amount']"
   ]
  },
  {
   "cell_type": "raw",
   "metadata": {},
   "source": [
    "preds = preds\n",
    "filename = 'submissionk.csv'#file name\n",
    "\n",
    "key = test_df.loc[:,'key']\n",
    "submission = pd.DataFrame(\n",
    "    {'key': key, 'fare_amount': preds},\n",
    "    columns = ['key', 'fare_amount'])\n",
    "submission.to_csv(filename, index = False)"
   ]
  },
  {
   "cell_type": "markdown",
   "metadata": {},
   "source": [
    "### Prediction File Representation"
   ]
  },
  {
   "cell_type": "code",
   "execution_count": 48,
   "metadata": {},
   "outputs": [
    {
     "data": {
      "text/html": [
       "<div>\n",
       "<style scoped>\n",
       "    .dataframe tbody tr th:only-of-type {\n",
       "        vertical-align: middle;\n",
       "    }\n",
       "\n",
       "    .dataframe tbody tr th {\n",
       "        vertical-align: top;\n",
       "    }\n",
       "\n",
       "    .dataframe thead th {\n",
       "        text-align: right;\n",
       "    }\n",
       "</style>\n",
       "<table border=\"1\" class=\"dataframe\">\n",
       "  <thead>\n",
       "    <tr style=\"text-align: right;\">\n",
       "      <th></th>\n",
       "      <th>key</th>\n",
       "      <th>fare_amount</th>\n",
       "    </tr>\n",
       "  </thead>\n",
       "  <tbody>\n",
       "    <tr>\n",
       "      <th>0</th>\n",
       "      <td>2015-01-27 13:08:24.0000002</td>\n",
       "      <td>10.671461</td>\n",
       "    </tr>\n",
       "    <tr>\n",
       "      <th>1</th>\n",
       "      <td>2015-01-27 13:08:24.0000003</td>\n",
       "      <td>10.938760</td>\n",
       "    </tr>\n",
       "    <tr>\n",
       "      <th>2</th>\n",
       "      <td>2011-10-08 11:53:44.0000002</td>\n",
       "      <td>4.358561</td>\n",
       "    </tr>\n",
       "    <tr>\n",
       "      <th>3</th>\n",
       "      <td>2012-12-01 21:12:12.0000002</td>\n",
       "      <td>8.995962</td>\n",
       "    </tr>\n",
       "    <tr>\n",
       "      <th>4</th>\n",
       "      <td>2012-12-01 21:12:12.0000003</td>\n",
       "      <td>16.456976</td>\n",
       "    </tr>\n",
       "  </tbody>\n",
       "</table>\n",
       "</div>"
      ],
      "text/plain": [
       "                           key  fare_amount\n",
       "0  2015-01-27 13:08:24.0000002    10.671461\n",
       "1  2015-01-27 13:08:24.0000003    10.938760\n",
       "2  2011-10-08 11:53:44.0000002     4.358561\n",
       "3  2012-12-01 21:12:12.0000002     8.995962\n",
       "4  2012-12-01 21:12:12.0000003    16.456976"
      ]
     },
     "execution_count": 48,
     "metadata": {},
     "output_type": "execute_result"
    }
   ],
   "source": [
    "pd.read_csv('submissionxg.csv').head()"
   ]
  },
  {
   "cell_type": "code",
   "execution_count": null,
   "metadata": {},
   "outputs": [],
   "source": []
  }
 ],
 "metadata": {
  "kernelspec": {
   "display_name": "Python 3",
   "language": "python",
   "name": "python3"
  },
  "language_info": {
   "codemirror_mode": {
    "name": "ipython",
    "version": 3
   },
   "file_extension": ".py",
   "mimetype": "text/x-python",
   "name": "python",
   "nbconvert_exporter": "python",
   "pygments_lexer": "ipython3",
   "version": "3.8.5"
  }
 },
 "nbformat": 4,
 "nbformat_minor": 4
}
